{
  "nbformat": 4,
  "nbformat_minor": 0,
  "metadata": {
    "colab": {
      "name": "Untitled2.ipynb",
      "provenance": [],
      "collapsed_sections": [],
      "toc_visible": true
    },
    "kernelspec": {
      "name": "python3",
      "display_name": "Python 3"
    }
  },
  "cells": [
    {
      "cell_type": "markdown",
      "metadata": {
        "id": "__pH8MfJZR-P"
      },
      "source": [
        ""
      ]
    },
    {
      "cell_type": "markdown",
      "metadata": {
        "id": "9p1AS7s5ZUG-"
      },
      "source": [
        "1. Попробуйте обучить нейронную сеть LSTM на любом другом датасете (любимый временной ряд, текст на русском (другом языке) как генератор или классификатор, или прилагаемый набор airline-passengers - пасажиропоток для авиалиний). \r\n",
        "\r\n",
        "2.Опишите, какой результата вы получили? Что помогло вам улучшить ее точность?\r\n",
        "\r\n",
        "3. *Попробуйте на numpy реализовать нейронную сеть архитектуры LSTM\r\n",
        "4. *Предложите свои варианты решения проблемы исчезающего градиента в RNN\r\n",
        "\r\n",
        "Решение:\r\n",
        "\r\n",
        "Очень долго пытался обучить модель на датасете исторических данных Forex с частотой 1 час.\r\n",
        "\r\n",
        "Построил несколько LSTM моделей.  "
      ]
    },
    {
      "cell_type": "code",
      "metadata": {
        "colab": {
          "base_uri": "https://localhost:8080/",
          "height": 17
        },
        "id": "rEXf5UaEqDGX",
        "outputId": "d31275a0-7c60-421d-f387-bda4756ec667"
      },
      "source": [
        "from IPython.core.display import display, HTML, Image\r\n",
        "display(HTML(\"<style>.container { width:72.5% !important; }</style>\"))"
      ],
      "execution_count": 72,
      "outputs": [
        {
          "output_type": "display_data",
          "data": {
            "text/html": [
              "<style>.container { width:72.5% !important; }</style>"
            ],
            "text/plain": [
              "<IPython.core.display.HTML object>"
            ]
          },
          "metadata": {
            "tags": []
          }
        }
      ]
    },
    {
      "cell_type": "code",
      "metadata": {
        "id": "gryEmHLzqXZ2"
      },
      "source": [
        "import tensorflow as tf\r\n",
        "from tensorflow.keras.models import Sequential\r\n",
        "from tensorflow.keras.layers import Dense, LSTM\r\n",
        "from sklearn.preprocessing import MinMaxScaler\r\n",
        "from sklearn.metrics import mean_squared_error\r\n",
        "\r\n",
        "import math\r\n",
        "import numpy as np\r\n",
        "import pandas as pd\r\n",
        "import seaborn as sns\r\n",
        "import matplotlib.pyplot as plt\r\n",
        "%matplotlib inline"
      ],
      "execution_count": 73,
      "outputs": []
    },
    {
      "cell_type": "code",
      "metadata": {
        "id": "6gk2uUD5qa4K"
      },
      "source": [
        "plt.rcParams.update({'font.size': 14})\r\n",
        "pd.set_option('precision', 3)\r\n",
        "pd.set_option('max_columns', 100)\r\n",
        "pd.set_option('display.float_format', lambda x: '%.5f' % x)\r\n",
        "pd.set_option('display.max_columns', 500)\r\n",
        "pd.set_option('display.max_rows', 500)\r\n",
        "pd.set_option('max_colwidth', 300)"
      ],
      "execution_count": 74,
      "outputs": []
    },
    {
      "cell_type": "code",
      "metadata": {
        "id": "ZSp47Bvkqlul"
      },
      "source": [
        "df = pd.read_csv('/eurusd_hour.csv', skipfooter = 5, engine='python')"
      ],
      "execution_count": 75,
      "outputs": []
    },
    {
      "cell_type": "code",
      "metadata": {
        "colab": {
          "base_uri": "https://localhost:8080/",
          "height": 204
        },
        "id": "gFQ3qB0Wqvti",
        "outputId": "00b1525b-3723-41b8-f566-b1ed7a702b93"
      },
      "source": [
        "df.head() #это датасет архивных данных Forex"
      ],
      "execution_count": 76,
      "outputs": [
        {
          "output_type": "execute_result",
          "data": {
            "text/html": [
              "<div>\n",
              "<style scoped>\n",
              "    .dataframe tbody tr th:only-of-type {\n",
              "        vertical-align: middle;\n",
              "    }\n",
              "\n",
              "    .dataframe tbody tr th {\n",
              "        vertical-align: top;\n",
              "    }\n",
              "\n",
              "    .dataframe thead th {\n",
              "        text-align: right;\n",
              "    }\n",
              "</style>\n",
              "<table border=\"1\" class=\"dataframe\">\n",
              "  <thead>\n",
              "    <tr style=\"text-align: right;\">\n",
              "      <th></th>\n",
              "      <th>Date</th>\n",
              "      <th>Time</th>\n",
              "      <th>BO</th>\n",
              "      <th>BH</th>\n",
              "      <th>BL</th>\n",
              "      <th>BC</th>\n",
              "      <th>BCh</th>\n",
              "      <th>AO</th>\n",
              "      <th>AH</th>\n",
              "      <th>AL</th>\n",
              "      <th>AC</th>\n",
              "      <th>ACh</th>\n",
              "    </tr>\n",
              "  </thead>\n",
              "  <tbody>\n",
              "    <tr>\n",
              "      <th>0</th>\n",
              "      <td>2005-05-02</td>\n",
              "      <td>00:00</td>\n",
              "      <td>1.28520</td>\n",
              "      <td>1.28520</td>\n",
              "      <td>1.28400</td>\n",
              "      <td>1.28440</td>\n",
              "      <td>-0.00080</td>\n",
              "      <td>1.28540</td>\n",
              "      <td>1.28540</td>\n",
              "      <td>1.28420</td>\n",
              "      <td>1.28460</td>\n",
              "      <td>-0.00080</td>\n",
              "    </tr>\n",
              "    <tr>\n",
              "      <th>1</th>\n",
              "      <td>2005-05-02</td>\n",
              "      <td>01:00</td>\n",
              "      <td>1.28440</td>\n",
              "      <td>1.28480</td>\n",
              "      <td>1.28390</td>\n",
              "      <td>1.28420</td>\n",
              "      <td>-0.00020</td>\n",
              "      <td>1.28460</td>\n",
              "      <td>1.28500</td>\n",
              "      <td>1.28410</td>\n",
              "      <td>1.28440</td>\n",
              "      <td>-0.00020</td>\n",
              "    </tr>\n",
              "    <tr>\n",
              "      <th>2</th>\n",
              "      <td>2005-05-02</td>\n",
              "      <td>02:00</td>\n",
              "      <td>1.28430</td>\n",
              "      <td>1.28540</td>\n",
              "      <td>1.28410</td>\n",
              "      <td>1.28510</td>\n",
              "      <td>0.00080</td>\n",
              "      <td>1.28450</td>\n",
              "      <td>1.28560</td>\n",
              "      <td>1.28430</td>\n",
              "      <td>1.28530</td>\n",
              "      <td>0.00080</td>\n",
              "    </tr>\n",
              "    <tr>\n",
              "      <th>3</th>\n",
              "      <td>2005-05-02</td>\n",
              "      <td>03:00</td>\n",
              "      <td>1.28510</td>\n",
              "      <td>1.28590</td>\n",
              "      <td>1.28500</td>\n",
              "      <td>1.28510</td>\n",
              "      <td>0.00000</td>\n",
              "      <td>1.28530</td>\n",
              "      <td>1.28610</td>\n",
              "      <td>1.28520</td>\n",
              "      <td>1.28530</td>\n",
              "      <td>0.00000</td>\n",
              "    </tr>\n",
              "    <tr>\n",
              "      <th>4</th>\n",
              "      <td>2005-05-02</td>\n",
              "      <td>04:00</td>\n",
              "      <td>1.28520</td>\n",
              "      <td>1.28590</td>\n",
              "      <td>1.28490</td>\n",
              "      <td>1.28550</td>\n",
              "      <td>0.00030</td>\n",
              "      <td>1.28540</td>\n",
              "      <td>1.28610</td>\n",
              "      <td>1.28510</td>\n",
              "      <td>1.28570</td>\n",
              "      <td>0.00030</td>\n",
              "    </tr>\n",
              "  </tbody>\n",
              "</table>\n",
              "</div>"
            ],
            "text/plain": [
              "         Date   Time      BO      BH      BL      BC      BCh      AO      AH  \\\n",
              "0  2005-05-02  00:00 1.28520 1.28520 1.28400 1.28440 -0.00080 1.28540 1.28540   \n",
              "1  2005-05-02  01:00 1.28440 1.28480 1.28390 1.28420 -0.00020 1.28460 1.28500   \n",
              "2  2005-05-02  02:00 1.28430 1.28540 1.28410 1.28510  0.00080 1.28450 1.28560   \n",
              "3  2005-05-02  03:00 1.28510 1.28590 1.28500 1.28510  0.00000 1.28530 1.28610   \n",
              "4  2005-05-02  04:00 1.28520 1.28590 1.28490 1.28550  0.00030 1.28540 1.28610   \n",
              "\n",
              "       AL      AC      ACh  \n",
              "0 1.28420 1.28460 -0.00080  \n",
              "1 1.28410 1.28440 -0.00020  \n",
              "2 1.28430 1.28530  0.00080  \n",
              "3 1.28520 1.28530  0.00000  \n",
              "4 1.28510 1.28570  0.00030  "
            ]
          },
          "metadata": {
            "tags": []
          },
          "execution_count": 76
        }
      ]
    },
    {
      "cell_type": "markdown",
      "metadata": {
        "id": "PEdm-_w2rOSl"
      },
      "source": [
        "Описание датасета: \r\n",
        "Это архивные данные пары евро/доллар\r\n",
        "\r\n",
        "data - дата\r\n",
        "time - время\r\n",
        "ВО - Цена открытия торгов\r\n",
        "BH - Caмая высокая цена предложения\r\n",
        "BL - Самая низкая цена предложения\r\n",
        "ВС - Цена закрытия торгов\r\n",
        "BCh - Изменение цены предложения\r\n",
        "AO - Цена открытия \r\n",
        "AH - Самая высокая цена продажи\r\n",
        "AL - Самая низкая цена предложения\r\n",
        "AC - "
      ]
    },
    {
      "cell_type": "code",
      "metadata": {
        "id": "z7nf_7flujqZ"
      },
      "source": [
        "#df.loc[:,'Date'] = pd.to_datetime(df.Date.astype(str)+' '+df.Time.astype(str))"
      ],
      "execution_count": 77,
      "outputs": []
    },
    {
      "cell_type": "code",
      "metadata": {
        "colab": {
          "base_uri": "https://localhost:8080/",
          "height": 204
        },
        "id": "fyjlREwM0QKy",
        "outputId": "3bfac629-8687-41ed-f1aa-9063662022a1"
      },
      "source": [
        "data = df[['Date','BO']]\r\n",
        "data.head()"
      ],
      "execution_count": 78,
      "outputs": [
        {
          "output_type": "execute_result",
          "data": {
            "text/html": [
              "<div>\n",
              "<style scoped>\n",
              "    .dataframe tbody tr th:only-of-type {\n",
              "        vertical-align: middle;\n",
              "    }\n",
              "\n",
              "    .dataframe tbody tr th {\n",
              "        vertical-align: top;\n",
              "    }\n",
              "\n",
              "    .dataframe thead th {\n",
              "        text-align: right;\n",
              "    }\n",
              "</style>\n",
              "<table border=\"1\" class=\"dataframe\">\n",
              "  <thead>\n",
              "    <tr style=\"text-align: right;\">\n",
              "      <th></th>\n",
              "      <th>Date</th>\n",
              "      <th>BO</th>\n",
              "    </tr>\n",
              "  </thead>\n",
              "  <tbody>\n",
              "    <tr>\n",
              "      <th>0</th>\n",
              "      <td>2005-05-02</td>\n",
              "      <td>1.28520</td>\n",
              "    </tr>\n",
              "    <tr>\n",
              "      <th>1</th>\n",
              "      <td>2005-05-02</td>\n",
              "      <td>1.28440</td>\n",
              "    </tr>\n",
              "    <tr>\n",
              "      <th>2</th>\n",
              "      <td>2005-05-02</td>\n",
              "      <td>1.28430</td>\n",
              "    </tr>\n",
              "    <tr>\n",
              "      <th>3</th>\n",
              "      <td>2005-05-02</td>\n",
              "      <td>1.28510</td>\n",
              "    </tr>\n",
              "    <tr>\n",
              "      <th>4</th>\n",
              "      <td>2005-05-02</td>\n",
              "      <td>1.28520</td>\n",
              "    </tr>\n",
              "  </tbody>\n",
              "</table>\n",
              "</div>"
            ],
            "text/plain": [
              "         Date      BO\n",
              "0  2005-05-02 1.28520\n",
              "1  2005-05-02 1.28440\n",
              "2  2005-05-02 1.28430\n",
              "3  2005-05-02 1.28510\n",
              "4  2005-05-02 1.28520"
            ]
          },
          "metadata": {
            "tags": []
          },
          "execution_count": 78
        }
      ]
    },
    {
      "cell_type": "code",
      "metadata": {
        "colab": {
          "base_uri": "https://localhost:8080/"
        },
        "id": "sHOVG-f68MW2",
        "outputId": "e702b6e6-4c77-4b0e-d3c2-7cb775a51597"
      },
      "source": [
        "data.dtypes"
      ],
      "execution_count": 79,
      "outputs": [
        {
          "output_type": "execute_result",
          "data": {
            "text/plain": [
              "Date     object\n",
              "BO      float64\n",
              "dtype: object"
            ]
          },
          "metadata": {
            "tags": []
          },
          "execution_count": 79
        }
      ]
    },
    {
      "cell_type": "code",
      "metadata": {
        "colab": {
          "base_uri": "https://localhost:8080/",
          "height": 307
        },
        "id": "ZQH8V0Ai7GH9",
        "outputId": "99d7991d-786d-48a7-ec09-c13ae0564077"
      },
      "source": [
        "dataset = data.iloc[:,1].values\r\n",
        "plt.plot(dataset)\r\n",
        "plt.xlabel('Date')\r\n",
        "plt.ylabel('BO')\r\n",
        "plt.title('Динамика цены открытия')\r\n",
        "plt.show()"
      ],
      "execution_count": 81,
      "outputs": [
        {
          "output_type": "display_data",
          "data": {
            "image/png": "[encoded data removed]",
            "text/plain": [
              "<Figure size 432x288 with 1 Axes>"
            ]
          },
          "metadata": {
            "tags": [],
            "needs_background": "light"
          }
        }
      ]
    },
    {
      "cell_type": "code",
      "metadata": {
        "colab": {
          "base_uri": "https://localhost:8080/"
        },
        "id": "c57a13ms-Rrt",
        "outputId": "ab73cda2-35a7-46ee-88eb-206c6a9e2f42"
      },
      "source": [
        "# Preprocessing\r\n",
        "dataset = dataset.reshape(-1, 1)\r\n",
        "dataset = dataset.astype('float32')\r\n",
        "dataset.shape"
      ],
      "execution_count": 82,
      "outputs": [
        {
          "output_type": "execute_result",
          "data": {
            "text/plain": [
              "(93079, 1)"
            ]
          },
          "metadata": {
            "tags": []
          },
          "execution_count": 82
        }
      ]
    },
    {
      "cell_type": "code",
      "metadata": {
        "id": "9eH7RZ6h-UsI"
      },
      "source": [
        "scaler = MinMaxScaler()\r\n",
        "dataset = scaler.fit_transform(dataset)"
      ],
      "execution_count": 83,
      "outputs": []
    },
    {
      "cell_type": "code",
      "metadata": {
        "colab": {
          "base_uri": "https://localhost:8080/"
        },
        "id": "MbkQ4zHJ-ZNi",
        "outputId": "8193c434-cb60-4f9b-ff74-5c153944f244"
      },
      "source": [
        "train_size = int(len(dataset)*0.54)\r\n",
        "test_size = len(dataset) - train_size\r\n",
        "train = dataset[0:train_size,:]\r\n",
        "test = dataset[train_size:len(dataset),:]\r\n",
        "print(len(train),len(test))"
      ],
      "execution_count": 84,
      "outputs": [
        {
          "output_type": "stream",
          "text": [
            "50262 42817\n"
          ],
          "name": "stdout"
        }
      ]
    },
    {
      "cell_type": "code",
      "metadata": {
        "id": "MCm7nS0x-ecE"
      },
      "source": [
        "# X_train, X_test, y_train, y_test = train_test_split(X, y)\r\n",
        "time_temp = 10\r\n",
        "X_temp = []\r\n",
        "Y_temp = []\r\n",
        "for i in range(len(train)-time_temp-1):\r\n",
        "    a = train[i:(i+time_temp), 0]\r\n",
        "    X_temp.append(a)\r\n",
        "    Y_temp.append(train[i + time_temp, 0])\r\n",
        "X_train = np.array(X_temp)\r\n",
        "y_train = np.array(Y_temp)"
      ],
      "execution_count": 85,
      "outputs": []
    },
    {
      "cell_type": "code",
      "metadata": {
        "id": "qBJyVDny-jus"
      },
      "source": [
        "X_temp = []\r\n",
        "Y_temp = []\r\n",
        "for i in range(len(test)-time_temp-1):\r\n",
        "    a = test[i:(i+time_temp), 0]\r\n",
        "    X_temp.append(a)\r\n",
        "    Y_temp.append(test[i + time_temp, 0])\r\n",
        "X_test = np.array(X_temp)\r\n",
        "y_test = np.array(Y_temp)"
      ],
      "execution_count": 86,
      "outputs": []
    },
    {
      "cell_type": "code",
      "metadata": {
        "id": "mbYIezzX-oWH"
      },
      "source": [
        "X_train = np.reshape(X_train, (X_train.shape[0], 1, X_train.shape[1]))\r\n",
        "X_test = np.reshape(X_test, (X_test.shape[0], 1, X_test.shape[1]))"
      ],
      "execution_count": 87,
      "outputs": []
    },
    {
      "cell_type": "markdown",
      "metadata": {
        "id": "r9q3YZyn-wgF"
      },
      "source": [
        "Собираем модель"
      ]
    },
    {
      "cell_type": "code",
      "metadata": {
        "id": "_rC0mIkw-tJc"
      },
      "source": [
        "model = Sequential([\r\n",
        "    LSTM(15, input_shape=(1,time_temp)),\r\n",
        "    Dense(1)\r\n",
        "])"
      ],
      "execution_count": 88,
      "outputs": []
    },
    {
      "cell_type": "code",
      "metadata": {
        "id": "ibhWDoD4_yAa"
      },
      "source": [
        "model.compile(optimizer='adam', loss='mean_squared_error')"
      ],
      "execution_count": 89,
      "outputs": []
    },
    {
      "cell_type": "code",
      "metadata": {
        "colab": {
          "base_uri": "https://localhost:8080/"
        },
        "id": "BKR3nhcB_7hw",
        "outputId": "e777b135-d660-4741-ea33-6c5e1d34d2a0"
      },
      "source": [
        "%%time\r\n",
        "model.fit(X_train, y_train, epochs=50, batch_size=1)"
      ],
      "execution_count": 90,
      "outputs": [
        {
          "output_type": "stream",
          "text": [
            "Epoch 1/50\n",
            "50251/50251 [==============================] - 59s 1ms/step - loss: 2.3451e-04\n",
            "Epoch 2/50\n",
            "50251/50251 [==============================] - 59s 1ms/step - loss: 3.1267e-05\n",
            "Epoch 3/50\n",
            "50251/50251 [==============================] - 59s 1ms/step - loss: 2.8867e-05\n",
            "Epoch 4/50\n",
            "50251/50251 [==============================] - 60s 1ms/step - loss: 2.6683e-05\n",
            "Epoch 5/50\n",
            "50251/50251 [==============================] - 60s 1ms/step - loss: 2.5557e-05\n",
            "Epoch 6/50\n",
            "50251/50251 [==============================] - 59s 1ms/step - loss: 2.4987e-05\n",
            "Epoch 7/50\n",
            "50251/50251 [==============================] - 61s 1ms/step - loss: 2.4096e-05\n",
            "Epoch 8/50\n",
            "50251/50251 [==============================] - 60s 1ms/step - loss: 2.3075e-05\n",
            "Epoch 9/50\n",
            "50251/50251 [==============================] - 60s 1ms/step - loss: 2.2575e-05\n",
            "Epoch 10/50\n",
            "50251/50251 [==============================] - 60s 1ms/step - loss: 2.2304e-05\n",
            "Epoch 11/50\n",
            "50251/50251 [==============================] - 60s 1ms/step - loss: 2.1835e-05\n",
            "Epoch 12/50\n",
            "50251/50251 [==============================] - 60s 1ms/step - loss: 2.1235e-05\n",
            "Epoch 13/50\n",
            "50251/50251 [==============================] - 60s 1ms/step - loss: 2.0935e-05\n",
            "Epoch 14/50\n",
            "50251/50251 [==============================] - 59s 1ms/step - loss: 2.0615e-05\n",
            "Epoch 15/50\n",
            "50251/50251 [==============================] - 59s 1ms/step - loss: 2.0256e-05\n",
            "Epoch 16/50\n",
            "50251/50251 [==============================] - 59s 1ms/step - loss: 1.9951e-05\n",
            "Epoch 17/50\n",
            "50251/50251 [==============================] - 59s 1ms/step - loss: 1.9706e-05\n",
            "Epoch 18/50\n",
            "50251/50251 [==============================] - 60s 1ms/step - loss: 1.9469e-05\n",
            "Epoch 19/50\n",
            "50251/50251 [==============================] - 60s 1ms/step - loss: 1.9384e-05\n",
            "Epoch 20/50\n",
            "50251/50251 [==============================] - 59s 1ms/step - loss: 1.9059e-05\n",
            "Epoch 21/50\n",
            "50251/50251 [==============================] - 60s 1ms/step - loss: 1.9297e-05\n",
            "Epoch 22/50\n",
            "50251/50251 [==============================] - 59s 1ms/step - loss: 1.8667e-05\n",
            "Epoch 23/50\n",
            "50251/50251 [==============================] - 60s 1ms/step - loss: 1.8739e-05\n",
            "Epoch 24/50\n",
            "50251/50251 [==============================] - 60s 1ms/step - loss: 1.8490e-05\n",
            "Epoch 25/50\n",
            "50251/50251 [==============================] - 59s 1ms/step - loss: 1.8255e-05\n",
            "Epoch 26/50\n",
            "50251/50251 [==============================] - 59s 1ms/step - loss: 1.7981e-05\n",
            "Epoch 27/50\n",
            "50251/50251 [==============================] - 59s 1ms/step - loss: 1.8197e-05\n",
            "Epoch 28/50\n",
            "50251/50251 [==============================] - 60s 1ms/step - loss: 1.7828e-05\n",
            "Epoch 29/50\n",
            "50251/50251 [==============================] - 59s 1ms/step - loss: 1.7681e-05\n",
            "Epoch 30/50\n",
            "50251/50251 [==============================] - 60s 1ms/step - loss: 1.7512e-05\n",
            "Epoch 31/50\n",
            "50251/50251 [==============================] - 59s 1ms/step - loss: 1.7410e-05\n",
            "Epoch 32/50\n",
            "50251/50251 [==============================] - 60s 1ms/step - loss: 1.7068e-05\n",
            "Epoch 33/50\n",
            "50251/50251 [==============================] - 59s 1ms/step - loss: 1.7194e-05\n",
            "Epoch 34/50\n",
            "50251/50251 [==============================] - 60s 1ms/step - loss: 1.7072e-05\n",
            "Epoch 35/50\n",
            "50251/50251 [==============================] - 59s 1ms/step - loss: 1.7075e-05\n",
            "Epoch 36/50\n",
            "50251/50251 [==============================] - 59s 1ms/step - loss: 1.6845e-05\n",
            "Epoch 37/50\n",
            "50251/50251 [==============================] - 59s 1ms/step - loss: 1.6736e-05\n",
            "Epoch 38/50\n",
            "50251/50251 [==============================] - 59s 1ms/step - loss: 1.6525e-05\n",
            "Epoch 39/50\n",
            "50251/50251 [==============================] - 60s 1ms/step - loss: 1.6629e-05\n",
            "Epoch 40/50\n",
            "50251/50251 [==============================] - 60s 1ms/step - loss: 1.6785e-05\n",
            "Epoch 41/50\n",
            "50251/50251 [==============================] - 59s 1ms/step - loss: 1.6592e-05\n",
            "Epoch 42/50\n",
            "50251/50251 [==============================] - 59s 1ms/step - loss: 1.6632e-05\n",
            "Epoch 43/50\n",
            "50251/50251 [==============================] - 59s 1ms/step - loss: 1.6472e-05\n",
            "Epoch 44/50\n",
            "50251/50251 [==============================] - 60s 1ms/step - loss: 1.6391e-05\n",
            "Epoch 45/50\n",
            "50251/50251 [==============================] - 60s 1ms/step - loss: 1.6470e-05\n",
            "Epoch 46/50\n",
            "50251/50251 [==============================] - 59s 1ms/step - loss: 1.6548e-05\n",
            "Epoch 47/50\n",
            "50251/50251 [==============================] - 59s 1ms/step - loss: 1.6261e-05\n",
            "Epoch 48/50\n",
            "50251/50251 [==============================] - 59s 1ms/step - loss: 1.6237e-05\n",
            "Epoch 49/50\n",
            "50251/50251 [==============================] - 60s 1ms/step - loss: 1.6249e-05\n",
            "Epoch 50/50\n",
            "50251/50251 [==============================] - 60s 1ms/step - loss: 1.6233e-05\n",
            "CPU times: user 1h 1min 32s, sys: 7min 25s, total: 1h 8min 57s\n",
            "Wall time: 49min 38s\n"
          ],
          "name": "stdout"
        },
        {
          "output_type": "execute_result",
          "data": {
            "text/plain": [
              "<tensorflow.python.keras.callbacks.History at 0x7f203b7785f8>"
            ]
          },
          "metadata": {
            "tags": []
          },
          "execution_count": 90
        }
      ]
    },
    {
      "cell_type": "code",
      "metadata": {
        "colab": {
          "base_uri": "https://localhost:8080/"
        },
        "id": "fJh2SlAWL8_9",
        "outputId": "db7280bd-498b-48ff-e3ef-8e2ce77a0e7b"
      },
      "source": [
        "trainPredict = model.predict(X_train)\r\n",
        "testPredict = model.predict(X_test)\r\n",
        "\r\n",
        "trainPredict = scaler.inverse_transform(trainPredict)\r\n",
        "y_train = scaler.inverse_transform([y_train])\r\n",
        "testPredict = scaler.inverse_transform(testPredict)\r\n",
        "y_test = scaler.inverse_transform([y_test])\r\n",
        "\r\n",
        "trainScore = math.sqrt(mean_squared_error(y_train[0], trainPredict[:,0]))\r\n",
        "print('Train Score: %.2f RMSE' % (trainScore))\r\n",
        "testScore = math.sqrt(mean_squared_error(y_test[0], testPredict[:,0]))\r\n",
        "print('Test Score: %.2f RMSE' % (testScore))"
      ],
      "execution_count": 91,
      "outputs": [
        {
          "output_type": "stream",
          "text": [
            "Train Score: 0.00 RMSE\n",
            "Test Score: 0.01 RMSE\n"
          ],
          "name": "stdout"
        }
      ]
    },
    {
      "cell_type": "code",
      "metadata": {
        "colab": {
          "base_uri": "https://localhost:8080/",
          "height": 688
        },
        "id": "DkdDycJFMMuI",
        "outputId": "bc20e633-caa2-4d35-ec42-9727e7d4762a"
      },
      "source": [
        "trainPredictPlot = np.empty_like(dataset)\r\n",
        "trainPredictPlot[:, :] = np.nan\r\n",
        "trainPredictPlot[time_temp:len(trainPredict)+time_temp, :] = trainPredict\r\n",
        "\r\n",
        "testPredictPlot = np.empty_like(dataset)\r\n",
        "testPredictPlot[:, :] = np.nan\r\n",
        "testPredictPlot[len(trainPredict)+(time_temp*2)+1:len(dataset)-1, :] = testPredict\r\n",
        "\r\n",
        "plt.figure(figsize = (15, 11))\r\n",
        "plt.plot(scaler.inverse_transform(dataset), label = 'True Values', color='#336633')\r\n",
        "plt.plot(trainPredictPlot, label='Train Prediction', color='#111d5e')\r\n",
        "plt.plot(testPredictPlot, label = 'Test Prediction', color='#CC0033')\r\n",
        "plt.xlabel('Date')\r\n",
        "plt.ylabel('BO')\r\n",
        "plt.title('Прогнозы цен')\r\n",
        "plt.legend()\r\n",
        "plt.savefig(fname = 'Results')\r\n",
        "plt.show()"
      ],
      "execution_count": 93,
      "outputs": [
        {
          "output_type": "display_data",
          "data": {
            "image/png": "[encoded data removed]",
            "text/plain": [
              "<Figure size 1080x792 with 1 Axes>"
            ]
          },
          "metadata": {
            "tags": [],
            "needs_background": "light"
          }
        }
      ]
    },
    {
      "cell_type": "code",
      "metadata": {
        "id": "-JbXGDnmNYoF"
      },
      "source": [
        ""
      ],
      "execution_count": 105,
      "outputs": []
    },
    {
      "cell_type": "markdown",
      "metadata": {
        "id": "ZVoxSa4UO5zB"
      },
      "source": [
        "Как видно ошибка очень меленькая, при этом из графика видно, что прогнозы не соответствуют действительности. "
      ]
    },
    {
      "cell_type": "markdown",
      "metadata": {
        "id": "sWM4ynzxRksu"
      },
      "source": [
        "Попробуем реализовать модель по аналогии с тем, что было на лекции"
      ]
    },
    {
      "cell_type": "code",
      "metadata": {
        "colab": {
          "base_uri": "https://localhost:8080/",
          "height": 204
        },
        "id": "btsxw2LxNeZt",
        "outputId": "e0ca23b4-21ce-45b6-f554-81f27db8bc33"
      },
      "source": [
        "df.head()"
      ],
      "execution_count": 110,
      "outputs": [
        {
          "output_type": "execute_result",
          "data": {
            "text/html": [
              "<div>\n",
              "<style scoped>\n",
              "    .dataframe tbody tr th:only-of-type {\n",
              "        vertical-align: middle;\n",
              "    }\n",
              "\n",
              "    .dataframe tbody tr th {\n",
              "        vertical-align: top;\n",
              "    }\n",
              "\n",
              "    .dataframe thead th {\n",
              "        text-align: right;\n",
              "    }\n",
              "</style>\n",
              "<table border=\"1\" class=\"dataframe\">\n",
              "  <thead>\n",
              "    <tr style=\"text-align: right;\">\n",
              "      <th></th>\n",
              "      <th>Date</th>\n",
              "      <th>Time</th>\n",
              "      <th>BO</th>\n",
              "      <th>BH</th>\n",
              "      <th>BL</th>\n",
              "      <th>BC</th>\n",
              "      <th>BCh</th>\n",
              "      <th>AO</th>\n",
              "      <th>AH</th>\n",
              "      <th>AL</th>\n",
              "      <th>AC</th>\n",
              "      <th>ACh</th>\n",
              "    </tr>\n",
              "  </thead>\n",
              "  <tbody>\n",
              "    <tr>\n",
              "      <th>0</th>\n",
              "      <td>2005-05-02</td>\n",
              "      <td>00:00</td>\n",
              "      <td>1.28520</td>\n",
              "      <td>1.28520</td>\n",
              "      <td>1.28400</td>\n",
              "      <td>1.28440</td>\n",
              "      <td>-0.00080</td>\n",
              "      <td>1.28540</td>\n",
              "      <td>1.28540</td>\n",
              "      <td>1.28420</td>\n",
              "      <td>1.28460</td>\n",
              "      <td>-0.00080</td>\n",
              "    </tr>\n",
              "    <tr>\n",
              "      <th>1</th>\n",
              "      <td>2005-05-02</td>\n",
              "      <td>01:00</td>\n",
              "      <td>1.28440</td>\n",
              "      <td>1.28480</td>\n",
              "      <td>1.28390</td>\n",
              "      <td>1.28420</td>\n",
              "      <td>-0.00020</td>\n",
              "      <td>1.28460</td>\n",
              "      <td>1.28500</td>\n",
              "      <td>1.28410</td>\n",
              "      <td>1.28440</td>\n",
              "      <td>-0.00020</td>\n",
              "    </tr>\n",
              "    <tr>\n",
              "      <th>2</th>\n",
              "      <td>2005-05-02</td>\n",
              "      <td>02:00</td>\n",
              "      <td>1.28430</td>\n",
              "      <td>1.28540</td>\n",
              "      <td>1.28410</td>\n",
              "      <td>1.28510</td>\n",
              "      <td>0.00080</td>\n",
              "      <td>1.28450</td>\n",
              "      <td>1.28560</td>\n",
              "      <td>1.28430</td>\n",
              "      <td>1.28530</td>\n",
              "      <td>0.00080</td>\n",
              "    </tr>\n",
              "    <tr>\n",
              "      <th>3</th>\n",
              "      <td>2005-05-02</td>\n",
              "      <td>03:00</td>\n",
              "      <td>1.28510</td>\n",
              "      <td>1.28590</td>\n",
              "      <td>1.28500</td>\n",
              "      <td>1.28510</td>\n",
              "      <td>0.00000</td>\n",
              "      <td>1.28530</td>\n",
              "      <td>1.28610</td>\n",
              "      <td>1.28520</td>\n",
              "      <td>1.28530</td>\n",
              "      <td>0.00000</td>\n",
              "    </tr>\n",
              "    <tr>\n",
              "      <th>4</th>\n",
              "      <td>2005-05-02</td>\n",
              "      <td>04:00</td>\n",
              "      <td>1.28520</td>\n",
              "      <td>1.28590</td>\n",
              "      <td>1.28490</td>\n",
              "      <td>1.28550</td>\n",
              "      <td>0.00030</td>\n",
              "      <td>1.28540</td>\n",
              "      <td>1.28610</td>\n",
              "      <td>1.28510</td>\n",
              "      <td>1.28570</td>\n",
              "      <td>0.00030</td>\n",
              "    </tr>\n",
              "  </tbody>\n",
              "</table>\n",
              "</div>"
            ],
            "text/plain": [
              "         Date   Time      BO      BH      BL      BC      BCh      AO      AH  \\\n",
              "0  2005-05-02  00:00 1.28520 1.28520 1.28400 1.28440 -0.00080 1.28540 1.28540   \n",
              "1  2005-05-02  01:00 1.28440 1.28480 1.28390 1.28420 -0.00020 1.28460 1.28500   \n",
              "2  2005-05-02  02:00 1.28430 1.28540 1.28410 1.28510  0.00080 1.28450 1.28560   \n",
              "3  2005-05-02  03:00 1.28510 1.28590 1.28500 1.28510  0.00000 1.28530 1.28610   \n",
              "4  2005-05-02  04:00 1.28520 1.28590 1.28490 1.28550  0.00030 1.28540 1.28610   \n",
              "\n",
              "       AL      AC      ACh  \n",
              "0 1.28420 1.28460 -0.00080  \n",
              "1 1.28410 1.28440 -0.00020  \n",
              "2 1.28430 1.28530  0.00080  \n",
              "3 1.28520 1.28530  0.00000  \n",
              "4 1.28510 1.28570  0.00030  "
            ]
          },
          "metadata": {
            "tags": []
          },
          "execution_count": 110
        }
      ]
    },
    {
      "cell_type": "code",
      "metadata": {
        "id": "iOonUKyaNj40"
      },
      "source": [
        "data = df.iloc[1500:,1:] "
      ],
      "execution_count": 111,
      "outputs": []
    },
    {
      "cell_type": "code",
      "metadata": {
        "colab": {
          "base_uri": "https://localhost:8080/"
        },
        "id": "-Da5EGnBSEXW",
        "outputId": "69b95ee7-b135-4b19-90b3-b23e1be33c2a"
      },
      "source": [
        "data.shape[1]"
      ],
      "execution_count": 112,
      "outputs": [
        {
          "output_type": "execute_result",
          "data": {
            "text/plain": [
              "11"
            ]
          },
          "metadata": {
            "tags": []
          },
          "execution_count": 112
        }
      ]
    },
    {
      "cell_type": "code",
      "metadata": {
        "colab": {
          "base_uri": "https://localhost:8080/",
          "height": 204
        },
        "id": "Huot62XFSi-T",
        "outputId": "e18e1cc2-9053-4ce4-a9ef-717c213bd2c1"
      },
      "source": [
        "data.head()"
      ],
      "execution_count": 115,
      "outputs": [
        {
          "output_type": "execute_result",
          "data": {
            "text/html": [
              "<div>\n",
              "<style scoped>\n",
              "    .dataframe tbody tr th:only-of-type {\n",
              "        vertical-align: middle;\n",
              "    }\n",
              "\n",
              "    .dataframe tbody tr th {\n",
              "        vertical-align: top;\n",
              "    }\n",
              "\n",
              "    .dataframe thead th {\n",
              "        text-align: right;\n",
              "    }\n",
              "</style>\n",
              "<table border=\"1\" class=\"dataframe\">\n",
              "  <thead>\n",
              "    <tr style=\"text-align: right;\">\n",
              "      <th></th>\n",
              "      <th>Time</th>\n",
              "      <th>BO</th>\n",
              "      <th>BH</th>\n",
              "      <th>BL</th>\n",
              "      <th>BC</th>\n",
              "      <th>BCh</th>\n",
              "      <th>AO</th>\n",
              "      <th>AH</th>\n",
              "      <th>AL</th>\n",
              "      <th>AC</th>\n",
              "      <th>ACh</th>\n",
              "    </tr>\n",
              "  </thead>\n",
              "  <tbody>\n",
              "    <tr>\n",
              "      <th>1500</th>\n",
              "      <td>12:00</td>\n",
              "      <td>1.19925</td>\n",
              "      <td>1.20316</td>\n",
              "      <td>1.19641</td>\n",
              "      <td>1.20200</td>\n",
              "      <td>0.00275</td>\n",
              "      <td>1.19940</td>\n",
              "      <td>1.20331</td>\n",
              "      <td>1.19659</td>\n",
              "      <td>1.20215</td>\n",
              "      <td>0.00275</td>\n",
              "    </tr>\n",
              "    <tr>\n",
              "      <th>1501</th>\n",
              "      <td>13:00</td>\n",
              "      <td>1.20200</td>\n",
              "      <td>1.20487</td>\n",
              "      <td>1.20180</td>\n",
              "      <td>1.20207</td>\n",
              "      <td>0.00007</td>\n",
              "      <td>1.20215</td>\n",
              "      <td>1.20502</td>\n",
              "      <td>1.20195</td>\n",
              "      <td>1.20297</td>\n",
              "      <td>0.00082</td>\n",
              "    </tr>\n",
              "    <tr>\n",
              "      <th>1502</th>\n",
              "      <td>14:00</td>\n",
              "      <td>1.20197</td>\n",
              "      <td>1.20540</td>\n",
              "      <td>1.20197</td>\n",
              "      <td>1.20380</td>\n",
              "      <td>0.00183</td>\n",
              "      <td>1.20287</td>\n",
              "      <td>1.20555</td>\n",
              "      <td>1.20255</td>\n",
              "      <td>1.20395</td>\n",
              "      <td>0.00108</td>\n",
              "    </tr>\n",
              "    <tr>\n",
              "      <th>1503</th>\n",
              "      <td>15:00</td>\n",
              "      <td>1.20380</td>\n",
              "      <td>1.20570</td>\n",
              "      <td>1.20360</td>\n",
              "      <td>1.20480</td>\n",
              "      <td>0.00100</td>\n",
              "      <td>1.20395</td>\n",
              "      <td>1.20585</td>\n",
              "      <td>1.20375</td>\n",
              "      <td>1.20495</td>\n",
              "      <td>0.00100</td>\n",
              "    </tr>\n",
              "    <tr>\n",
              "      <th>1504</th>\n",
              "      <td>16:00</td>\n",
              "      <td>1.20480</td>\n",
              "      <td>1.20615</td>\n",
              "      <td>1.20415</td>\n",
              "      <td>1.20555</td>\n",
              "      <td>0.00075</td>\n",
              "      <td>1.20495</td>\n",
              "      <td>1.20630</td>\n",
              "      <td>1.20430</td>\n",
              "      <td>1.20570</td>\n",
              "      <td>0.00075</td>\n",
              "    </tr>\n",
              "  </tbody>\n",
              "</table>\n",
              "</div>"
            ],
            "text/plain": [
              "       Time      BO      BH      BL      BC     BCh      AO      AH      AL  \\\n",
              "1500  12:00 1.19925 1.20316 1.19641 1.20200 0.00275 1.19940 1.20331 1.19659   \n",
              "1501  13:00 1.20200 1.20487 1.20180 1.20207 0.00007 1.20215 1.20502 1.20195   \n",
              "1502  14:00 1.20197 1.20540 1.20197 1.20380 0.00183 1.20287 1.20555 1.20255   \n",
              "1503  15:00 1.20380 1.20570 1.20360 1.20480 0.00100 1.20395 1.20585 1.20375   \n",
              "1504  16:00 1.20480 1.20615 1.20415 1.20555 0.00075 1.20495 1.20630 1.20430   \n",
              "\n",
              "          AC     ACh  \n",
              "1500 1.20215 0.00275  \n",
              "1501 1.20297 0.00082  \n",
              "1502 1.20395 0.00108  \n",
              "1503 1.20495 0.00100  \n",
              "1504 1.20570 0.00075  "
            ]
          },
          "metadata": {
            "tags": []
          },
          "execution_count": 115
        }
      ]
    },
    {
      "cell_type": "code",
      "metadata": {
        "id": "pVestnHcSKNw"
      },
      "source": [
        "def normalize(data, train_split):\r\n",
        "    data_mean = data[:train_split].mean(axis=0)\r\n",
        "    data_std = data[:train_split].std(axis=0)\r\n",
        "    return (data - data_mean) / data_std"
      ],
      "execution_count": 113,
      "outputs": []
    },
    {
      "cell_type": "code",
      "metadata": {
        "colab": {
          "base_uri": "https://localhost:8080/"
        },
        "id": "Qf8ztmsZS95j",
        "outputId": "c3c61eb0-04c0-444b-f146-337655999c85"
      },
      "source": [
        "data.dtypes"
      ],
      "execution_count": 117,
      "outputs": [
        {
          "output_type": "execute_result",
          "data": {
            "text/plain": [
              "Time     object\n",
              "BO      float64\n",
              "BH      float64\n",
              "BL      float64\n",
              "BC      float64\n",
              "BCh     float64\n",
              "AO      float64\n",
              "AH      float64\n",
              "AL      float64\n",
              "AC      float64\n",
              "ACh     float64\n",
              "dtype: object"
            ]
          },
          "metadata": {
            "tags": []
          },
          "execution_count": 117
        }
      ]
    },
    {
      "cell_type": "code",
      "metadata": {
        "id": "VZvVgh0BSQsr"
      },
      "source": [
        "data = df.iloc[1500:,2:] "
      ],
      "execution_count": 120,
      "outputs": []
    },
    {
      "cell_type": "code",
      "metadata": {
        "id": "iPFx00rSTX6e"
      },
      "source": [
        "train_split = 1000\r\n",
        "data_v =  normalize(data.values, train_split)\r\n",
        "data_f = pd.DataFrame(data_v)"
      ],
      "execution_count": 122,
      "outputs": []
    },
    {
      "cell_type": "code",
      "metadata": {
        "id": "1jU48g22Tpg1"
      },
      "source": [
        "# список признаков, по которым будем учить\r\n",
        "channelIndexes = [0,1, 2, 4, 5, 6, 7]\r\n",
        "\r\n",
        "# длина теста\r\n",
        "valLen = 100\r\n",
        "# длина истории для работы\r\n",
        "xLen = 3\r\n",
        "# отступ тестов от тренировок\r\n",
        "bias = 10\r\n",
        "\r\n",
        "# вычисляем точку разделения ряда на тесты и тренировку\r\n",
        "#train_split = data_f.shape[0] - valLen - bias\r\n",
        "# делим\r\n",
        "train_data = data_f.iloc[0 : train_split - 1,channelIndexes]\r\n",
        "val_data = data_f.iloc[train_split+bias:,channelIndexes]"
      ],
      "execution_count": 123,
      "outputs": []
    },
    {
      "cell_type": "code",
      "metadata": {
        "colab": {
          "base_uri": "https://localhost:8080/",
          "height": 266
        },
        "id": "WpnxVpd5TwqK",
        "outputId": "02cbdb37-3a2c-4f44-e420-f5a9574cc5e6"
      },
      "source": [
        "train_data.head(7)"
      ],
      "execution_count": 124,
      "outputs": [
        {
          "output_type": "execute_result",
          "data": {
            "text/html": [
              "<div>\n",
              "<style scoped>\n",
              "    .dataframe tbody tr th:only-of-type {\n",
              "        vertical-align: middle;\n",
              "    }\n",
              "\n",
              "    .dataframe tbody tr th {\n",
              "        vertical-align: top;\n",
              "    }\n",
              "\n",
              "    .dataframe thead th {\n",
              "        text-align: right;\n",
              "    }\n",
              "</style>\n",
              "<table border=\"1\" class=\"dataframe\">\n",
              "  <thead>\n",
              "    <tr style=\"text-align: right;\">\n",
              "      <th></th>\n",
              "      <th>0</th>\n",
              "      <th>1</th>\n",
              "      <th>2</th>\n",
              "      <th>4</th>\n",
              "      <th>5</th>\n",
              "      <th>6</th>\n",
              "      <th>7</th>\n",
              "    </tr>\n",
              "  </thead>\n",
              "  <tbody>\n",
              "    <tr>\n",
              "      <th>0</th>\n",
              "      <td>-2.58717</td>\n",
              "      <td>-2.33462</td>\n",
              "      <td>-2.76076</td>\n",
              "      <td>2.09510</td>\n",
              "      <td>-2.58939</td>\n",
              "      <td>-2.33579</td>\n",
              "      <td>-2.75962</td>\n",
              "    </tr>\n",
              "    <tr>\n",
              "      <th>1</th>\n",
              "      <td>-2.35179</td>\n",
              "      <td>-2.18830</td>\n",
              "      <td>-2.29772</td>\n",
              "      <td>0.03974</td>\n",
              "      <td>-2.35407</td>\n",
              "      <td>-2.18958</td>\n",
              "      <td>-2.29940</td>\n",
              "    </tr>\n",
              "    <tr>\n",
              "      <th>2</th>\n",
              "      <td>-2.35436</td>\n",
              "      <td>-2.14295</td>\n",
              "      <td>-2.28312</td>\n",
              "      <td>1.38953</td>\n",
              "      <td>-2.29246</td>\n",
              "      <td>-2.14426</td>\n",
              "      <td>-2.24788</td>\n",
              "    </tr>\n",
              "    <tr>\n",
              "      <th>3</th>\n",
              "      <td>-2.19772</td>\n",
              "      <td>-2.11728</td>\n",
              "      <td>-2.14309</td>\n",
              "      <td>0.75298</td>\n",
              "      <td>-2.20005</td>\n",
              "      <td>-2.11861</td>\n",
              "      <td>-2.14485</td>\n",
              "    </tr>\n",
              "    <tr>\n",
              "      <th>4</th>\n",
              "      <td>-2.11212</td>\n",
              "      <td>-2.07877</td>\n",
              "      <td>-2.09584</td>\n",
              "      <td>0.56125</td>\n",
              "      <td>-2.11448</td>\n",
              "      <td>-2.08013</td>\n",
              "      <td>-2.09762</td>\n",
              "    </tr>\n",
              "    <tr>\n",
              "      <th>5</th>\n",
              "      <td>-2.04793</td>\n",
              "      <td>-1.97609</td>\n",
              "      <td>-2.05288</td>\n",
              "      <td>0.90637</td>\n",
              "      <td>-2.05030</td>\n",
              "      <td>-1.97753</td>\n",
              "      <td>-2.05469</td>\n",
              "    </tr>\n",
              "    <tr>\n",
              "      <th>6</th>\n",
              "      <td>-1.94521</td>\n",
              "      <td>-1.89479</td>\n",
              "      <td>-1.87677</td>\n",
              "      <td>0.69930</td>\n",
              "      <td>-1.94762</td>\n",
              "      <td>-1.89630</td>\n",
              "      <td>-1.87867</td>\n",
              "    </tr>\n",
              "  </tbody>\n",
              "</table>\n",
              "</div>"
            ],
            "text/plain": [
              "         0        1        2       4        5        6        7\n",
              "0 -2.58717 -2.33462 -2.76076 2.09510 -2.58939 -2.33579 -2.75962\n",
              "1 -2.35179 -2.18830 -2.29772 0.03974 -2.35407 -2.18958 -2.29940\n",
              "2 -2.35436 -2.14295 -2.28312 1.38953 -2.29246 -2.14426 -2.24788\n",
              "3 -2.19772 -2.11728 -2.14309 0.75298 -2.20005 -2.11861 -2.14485\n",
              "4 -2.11212 -2.07877 -2.09584 0.56125 -2.11448 -2.08013 -2.09762\n",
              "5 -2.04793 -1.97609 -2.05288 0.90637 -2.05030 -1.97753 -2.05469\n",
              "6 -1.94521 -1.89479 -1.87677 0.69930 -1.94762 -1.89630 -1.87867"
            ]
          },
          "metadata": {
            "tags": []
          },
          "execution_count": 124
        }
      ]
    },
    {
      "cell_type": "code",
      "metadata": {
        "id": "EPD0dgruT5Pn"
      },
      "source": [
        "# шаг по данным для построения обучающих примеров\r\n",
        "step = 1\r\n",
        "\r\n",
        "# длина прошлого \r\n",
        "past = xLen\r\n",
        "p = past\r\n",
        "# горизонт предсказания\r\n",
        "future = 1\r\n",
        "h=future\r\n",
        "\r\n",
        "# параметры модели для обучения\r\n",
        "learning_rate = 0.001\r\n",
        "batch_size = 32\r\n",
        "epochs = 10\r\n"
      ],
      "execution_count": 126,
      "outputs": []
    },
    {
      "cell_type": "code",
      "metadata": {
        "id": "UQHeDXx4UAAR"
      },
      "source": [
        "start = xLen + future\r\n",
        "end = start + train_split-1\r\n",
        "\r\n",
        "xTrain = train_data[[train_data.columns[i] for i in range(7)]].values\r\n",
        "yTrain = data_f.iloc[start:end,0].values\r\n",
        "\r\n",
        "sequence_length = int(xLen / step)\r\n",
        "\r\n",
        "\r\n",
        "x_end = len(val_data) - xLen - future\r\n",
        "\r\n",
        "label_start = len(train_data)+bias+xLen + future\r\n",
        "\r\n",
        "xVal = val_data.iloc[:x_end+1][[val_data.columns[i] for i in range(7)]].values\r\n",
        "yVal = data_f.iloc[label_start:,0].values"
      ],
      "execution_count": 127,
      "outputs": []
    },
    {
      "cell_type": "code",
      "metadata": {
        "colab": {
          "base_uri": "https://localhost:8080/"
        },
        "id": "9NNCFDNWUEsz",
        "outputId": "35f59594-2689-4ccf-d4c4-513d60a206e6"
      },
      "source": [
        "print(xTrain.shape)\r\n",
        "\r\n",
        "print(yTrain.shape)\r\n",
        "\r\n",
        "\r\n",
        "print(xVal.shape)\r\n",
        "\r\n",
        "print(yVal.shape)"
      ],
      "execution_count": 128,
      "outputs": [
        {
          "output_type": "stream",
          "text": [
            "(999, 7)\n",
            "(999,)\n",
            "(90566, 7)\n",
            "(90566,)\n"
          ],
          "name": "stdout"
        }
      ]
    },
    {
      "cell_type": "code",
      "metadata": {
        "colab": {
          "base_uri": "https://localhost:8080/",
          "height": 362
        },
        "id": "zBdErcsGUIa6",
        "outputId": "bbc0e44e-99b9-44b3-efc9-15d2a78e2897"
      },
      "source": [
        "plt.figure(figsize=(10,5))\r\n",
        "plt.plot(data_f.index[xLen:yTrain.shape[0]+xLen],yTrain[:])\r\n",
        "plt.plot(data_f.index[yTrain.shape[0]+xLen+bias+future:],yVal[:])\r\n",
        "plt.grid('on')\r\n",
        "plt.xlabel('t, час')\r\n",
        "plt.ylabel('eur/доллар')\r\n",
        "plt.title('Динамика изменения пары евро/доллар с частотой 1 час')\r\n",
        "plt.show()"
      ],
      "execution_count": 130,
      "outputs": [
        {
          "output_type": "display_data",
          "data": {
            "image/png": "[encoded data removed]",
            "text/plain": [
              "<Figure size 720x360 with 1 Axes>"
            ]
          },
          "metadata": {
            "tags": [],
            "needs_background": "light"
          }
        }
      ]
    },
    {
      "cell_type": "code",
      "metadata": {
        "id": "4AWwlGqdUk7v"
      },
      "source": [
        "%matplotlib inline\r\n",
        "\r\n",
        "import pandas as pd\r\n",
        "import matplotlib.pyplot as plt\r\n",
        "from tensorflow.keras import utils\r\n",
        "import numpy as np\r\n",
        "import tensorflow.keras as keras\r\n",
        "from tensorflow.keras.optimizers import Adam\r\n",
        "from tensorflow.keras.models import Sequential, Model\r\n",
        "from tensorflow.keras.layers import concatenate, Input, Dense, Dropout, BatchNormalization, Flatten, Conv1D, Conv2D, LSTM\r\n",
        "\r\n",
        "from google.colab import files\r\n",
        "from sklearn.preprocessing import StandardScaler, MinMaxScaler"
      ],
      "execution_count": 132,
      "outputs": []
    },
    {
      "cell_type": "code",
      "metadata": {
        "id": "fEflcs-TUcX6"
      },
      "source": [
        "\r\n",
        "\r\n",
        "\r\n",
        "dataset_train = keras.preprocessing.timeseries_dataset_from_array(\r\n",
        "    xTrain,\r\n",
        "    yTrain,\r\n",
        "    sequence_length=xLen,\r\n",
        "    sampling_rate=1,\r\n",
        "    batch_size=batch_size,\r\n",
        ")\r\n",
        "dataset_val = keras.preprocessing.timeseries_dataset_from_array(\r\n",
        "    xVal,\r\n",
        "    yVal,\r\n",
        "    sequence_length=xLen,\r\n",
        "    sampling_rate=1,\r\n",
        "    batch_size=batch_size,\r\n",
        ")"
      ],
      "execution_count": 133,
      "outputs": []
    },
    {
      "cell_type": "code",
      "metadata": {
        "colab": {
          "base_uri": "https://localhost:8080/"
        },
        "id": "qfvg5BwAUsdL",
        "outputId": "016c1814-75d1-420c-efdf-24fd98988df8"
      },
      "source": [
        "for batch in dataset_train.take(2):\r\n",
        "    inputs, targets = batch\r\n",
        "\r\n",
        "print(\"Input shape:\", inputs.numpy().shape)\r\n",
        "print(\"Target shape:\", targets.numpy().shape)"
      ],
      "execution_count": 134,
      "outputs": [
        {
          "output_type": "stream",
          "text": [
            "Input shape: (32, 3, 7)\n",
            "Target shape: (32,)\n"
          ],
          "name": "stdout"
        }
      ]
    },
    {
      "cell_type": "code",
      "metadata": {
        "colab": {
          "base_uri": "https://localhost:8080/"
        },
        "id": "NKi6J0q2UzWg",
        "outputId": "78efb6f7-98b6-4478-a1cc-a53ac5310597"
      },
      "source": [
        "inputs[2,:,0]"
      ],
      "execution_count": 135,
      "outputs": [
        {
          "output_type": "execute_result",
          "data": {
            "text/plain": [
              "<tf.Tensor: shape=(3,), dtype=float64, numpy=array([-1.44447979, -1.42051316, -1.42479292])>"
            ]
          },
          "metadata": {
            "tags": []
          },
          "execution_count": 135
        }
      ]
    },
    {
      "cell_type": "code",
      "metadata": {
        "colab": {
          "base_uri": "https://localhost:8080/"
        },
        "id": "gzkzD08qU5Ub",
        "outputId": "bd6dfb48-6d10-4cdb-f8e0-4fd9cf6e13dc"
      },
      "source": [
        "targets[0]"
      ],
      "execution_count": 136,
      "outputs": [
        {
          "output_type": "execute_result",
          "data": {
            "text/plain": [
              "<tf.Tensor: shape=(), dtype=float64, numpy=-1.4247929156702668>"
            ]
          },
          "metadata": {
            "tags": []
          },
          "execution_count": 136
        }
      ]
    },
    {
      "cell_type": "code",
      "metadata": {
        "colab": {
          "base_uri": "https://localhost:8080/",
          "height": 607
        },
        "id": "GsrP48b8U9a_",
        "outputId": "feca9a8f-9008-4c46-8ce0-14e31a468618"
      },
      "source": [
        "from tensorflow.keras.callbacks import EarlyStopping\r\n",
        "callback = EarlyStopping(monitor='val_mae', patience=5)\r\n",
        "\r\n",
        "model = Sequential()\r\n",
        "\r\n",
        "model.add(LSTM(32, input_shape = (inputs.shape[1], inputs.shape[2]), return_sequences=\"True\"))\r\n",
        "model.add(LSTM(32, return_sequences=\"True\"))\r\n",
        "model.add(Conv1D(64, 3, activation=\"linear\"))\r\n",
        "#model.add(Conv1D(64, 1, activation=\"linear\"))\r\n",
        "model.add(Flatten())\r\n",
        "model.add(Dense(3, activation=\"linear\"))\r\n",
        "model.add(Dense(1, activation=\"linear\"))\r\n",
        "\r\n",
        "model.compile(loss=\"mse\", optimizer=\"adam\", metrics=['mae'])\r\n",
        "\r\n",
        "history = model.fit(\r\n",
        "    dataset_train,\r\n",
        "    epochs=epochs,\r\n",
        "    validation_data=dataset_val,\r\n",
        "    callbacks=[callback])\r\n",
        "\r\n",
        "\r\n",
        "plt.plot(history.history['mae'][1:], \r\n",
        "         label='Средняя абсолютная ошибка на обучающем наборе')\r\n",
        "plt.plot(history.history['val_mae'][1:], \r\n",
        "         label='Средняя абсолютная ошибка на проверочном наборе')\r\n",
        "plt.ylabel('Средняя ошибка')\r\n",
        "plt.legend()\r\n",
        "plt.show()\r\n"
      ],
      "execution_count": 138,
      "outputs": [
        {
          "output_type": "stream",
          "text": [
            "Epoch 1/10\n",
            "32/32 [==============================] - 16s 490ms/step - loss: 0.4743 - mae: 0.5122 - val_loss: 92.6127 - val_mae: 7.6571\n",
            "Epoch 2/10\n",
            "32/32 [==============================] - 15s 468ms/step - loss: 0.1091 - mae: 0.2469 - val_loss: 92.4064 - val_mae: 7.6958\n",
            "Epoch 3/10\n",
            "32/32 [==============================] - 15s 467ms/step - loss: 0.0705 - mae: 0.2055 - val_loss: 87.7240 - val_mae: 7.4451\n",
            "Epoch 4/10\n",
            "32/32 [==============================] - 15s 465ms/step - loss: 0.0556 - mae: 0.1805 - val_loss: 82.9601 - val_mae: 7.1868\n",
            "Epoch 5/10\n",
            "32/32 [==============================] - 15s 463ms/step - loss: 0.0548 - mae: 0.1799 - val_loss: 78.7394 - val_mae: 6.9487\n",
            "Epoch 6/10\n",
            "32/32 [==============================] - 15s 466ms/step - loss: 0.0529 - mae: 0.1768 - val_loss: 75.1196 - val_mae: 6.7372\n",
            "Epoch 7/10\n",
            "32/32 [==============================] - 15s 467ms/step - loss: 0.0501 - mae: 0.1721 - val_loss: 72.0446 - val_mae: 6.5505\n",
            "Epoch 8/10\n",
            "32/32 [==============================] - 15s 459ms/step - loss: 0.0465 - mae: 0.1653 - val_loss: 69.4043 - val_mae: 6.3834\n",
            "Epoch 9/10\n",
            "32/32 [==============================] - 15s 464ms/step - loss: 0.0424 - mae: 0.1571 - val_loss: 67.0969 - val_mae: 6.2313\n",
            "Epoch 10/10\n",
            "32/32 [==============================] - 15s 463ms/step - loss: 0.0382 - mae: 0.1486 - val_loss: 65.0774 - val_mae: 6.0930\n"
          ],
          "name": "stdout"
        },
        {
          "output_type": "display_data",
          "data": {
            "image/png": "[encoded data removed]",
            "text/plain": [
              "<Figure size 432x288 with 1 Axes>"
            ]
          },
          "metadata": {
            "tags": [],
            "needs_background": "light"
          }
        }
      ]
    },
    {
      "cell_type": "markdown",
      "metadata": {
        "id": "icV0ZLyBWXPu"
      },
      "source": [
        "Как видно из графика, ошибки не сошлись. Попробуем добавить слои и эпохи"
      ]
    },
    {
      "cell_type": "code",
      "metadata": {
        "colab": {
          "base_uri": "https://localhost:8080/",
          "height": 983
        },
        "id": "6rgLoqOaWUU1",
        "outputId": "7010aed3-7ae2-479c-c958-ba5638692e23"
      },
      "source": [
        "epochs = 50\r\n",
        "\r\n",
        "callback = EarlyStopping(monitor='val_mae', patience=5)\r\n",
        "\r\n",
        "model = Sequential()\r\n",
        "\r\n",
        "model.add(LSTM(32, input_shape = (inputs.shape[1], inputs.shape[2]), return_sequences=\"True\"))\r\n",
        "model.add(LSTM(32, return_sequences=\"True\"))\r\n",
        "model.add(Conv1D(64, 3, activation=\"linear\"))\r\n",
        "#model.add(Conv1D(64, 1, activation=\"linear\"))\r\n",
        "model.add(Flatten())\r\n",
        "model.add(Dense(3, activation=\"linear\"))\r\n",
        "model.add(Dense(1, activation=\"linear\"))\r\n",
        "\r\n",
        "model.compile(loss=\"mse\", optimizer=\"adam\", metrics=['mae'])\r\n",
        "\r\n",
        "history = model.fit(\r\n",
        "    dataset_train,\r\n",
        "    epochs=epochs,\r\n",
        "    validation_data=dataset_val,\r\n",
        "    callbacks=[callback])\r\n",
        "\r\n",
        "\r\n",
        "plt.plot(history.history['mae'][1:], \r\n",
        "         label='Средняя абсолютная ошибка на обучающем наборе')\r\n",
        "plt.plot(history.history['val_mae'][1:], \r\n",
        "         label='Средняя абсолютная ошибка на проверочном наборе')\r\n",
        "plt.ylabel('Средняя ошибка')\r\n",
        "plt.legend()\r\n",
        "plt.show()"
      ],
      "execution_count": 140,
      "outputs": [
        {
          "output_type": "stream",
          "text": [
            "Epoch 1/50\n",
            "32/32 [==============================] - 16s 493ms/step - loss: 0.3930 - mae: 0.4700 - val_loss: 91.0982 - val_mae: 7.5345\n",
            "Epoch 2/50\n",
            "32/32 [==============================] - 15s 468ms/step - loss: 0.0945 - mae: 0.2352 - val_loss: 92.1352 - val_mae: 7.6494\n",
            "Epoch 3/50\n",
            "32/32 [==============================] - 15s 480ms/step - loss: 0.0815 - mae: 0.2204 - val_loss: 89.2777 - val_mae: 7.4820\n",
            "Epoch 4/50\n",
            "32/32 [==============================] - 15s 477ms/step - loss: 0.0514 - mae: 0.1740 - val_loss: 85.6241 - val_mae: 7.2825\n",
            "Epoch 5/50\n",
            "32/32 [==============================] - 15s 473ms/step - loss: 0.0532 - mae: 0.1774 - val_loss: 81.9820 - val_mae: 7.0722\n",
            "Epoch 6/50\n",
            "32/32 [==============================] - 16s 494ms/step - loss: 0.0504 - mae: 0.1723 - val_loss: 78.6641 - val_mae: 6.8797\n",
            "Epoch 7/50\n",
            "32/32 [==============================] - 17s 518ms/step - loss: 0.0488 - mae: 0.1695 - val_loss: 75.6267 - val_mae: 6.7007\n",
            "Epoch 8/50\n",
            "32/32 [==============================] - 16s 488ms/step - loss: 0.0462 - mae: 0.1644 - val_loss: 72.8988 - val_mae: 6.5374\n",
            "Epoch 9/50\n",
            "32/32 [==============================] - 15s 472ms/step - loss: 0.0430 - mae: 0.1580 - val_loss: 70.4466 - val_mae: 6.3874\n",
            "Epoch 10/50\n",
            "32/32 [==============================] - 15s 474ms/step - loss: 0.0395 - mae: 0.1508 - val_loss: 68.2428 - val_mae: 6.2490\n",
            "Epoch 11/50\n",
            "32/32 [==============================] - 15s 482ms/step - loss: 0.0359 - mae: 0.1430 - val_loss: 66.2854 - val_mae: 6.1221\n",
            "Epoch 12/50\n",
            "32/32 [==============================] - 16s 486ms/step - loss: 0.0326 - mae: 0.1352 - val_loss: 64.6041 - val_mae: 6.0092\n",
            "Epoch 13/50\n",
            "32/32 [==============================] - 15s 475ms/step - loss: 0.0294 - mae: 0.1278 - val_loss: 63.2554 - val_mae: 5.9148\n",
            "Epoch 14/50\n",
            "32/32 [==============================] - 15s 484ms/step - loss: 0.0265 - mae: 0.1207 - val_loss: 62.3063 - val_mae: 5.8440\n",
            "Epoch 15/50\n",
            "32/32 [==============================] - 15s 477ms/step - loss: 0.0237 - mae: 0.1136 - val_loss: 61.8224 - val_mae: 5.8022\n",
            "Epoch 16/50\n",
            "32/32 [==============================] - 16s 493ms/step - loss: 0.0212 - mae: 0.1065 - val_loss: 61.8411 - val_mae: 5.7930\n",
            "Epoch 17/50\n",
            "32/32 [==============================] - 15s 482ms/step - loss: 0.0191 - mae: 0.1001 - val_loss: 62.3211 - val_mae: 5.8152\n",
            "Epoch 18/50\n",
            "32/32 [==============================] - 15s 480ms/step - loss: 0.0175 - mae: 0.0951 - val_loss: 63.0967 - val_mae: 5.8594\n",
            "Epoch 19/50\n",
            "32/32 [==============================] - 15s 483ms/step - loss: 0.0165 - mae: 0.0917 - val_loss: 63.9211 - val_mae: 5.9097\n",
            "Epoch 20/50\n",
            "32/32 [==============================] - 15s 479ms/step - loss: 0.0158 - mae: 0.0894 - val_loss: 64.6171 - val_mae: 5.9542\n",
            "Epoch 21/50\n",
            "32/32 [==============================] - 16s 488ms/step - loss: 0.0153 - mae: 0.0880 - val_loss: 65.1466 - val_mae: 5.9895\n"
          ],
          "name": "stdout"
        },
        {
          "output_type": "display_data",
          "data": {
            "image/png": "[encoded data removed]",
            "text/plain": [
              "<Figure size 432x288 with 1 Axes>"
            ]
          },
          "metadata": {
            "tags": [],
            "needs_background": "light"
          }
        }
      ]
    },
    {
      "cell_type": "code",
      "metadata": {
        "id": "djjfbJMGZ9Pn"
      },
      "source": [
        "hist_val = history.history['val_mae']\r\n",
        "hist_train = history.history['mae']"
      ],
      "execution_count": 141,
      "outputs": []
    },
    {
      "cell_type": "code",
      "metadata": {
        "colab": {
          "base_uri": "https://localhost:8080/",
          "height": 779
        },
        "id": "3DU-jgFEaMZZ",
        "outputId": "1db552fb-8eb6-49d0-d2a8-5c748b1fbc36"
      },
      "source": [
        "history = model.fit(\r\n",
        "    dataset_train,\r\n",
        "    epochs=epochs,\r\n",
        "    validation_data=dataset_val,\r\n",
        "    callbacks=[callback])\r\n",
        "\r\n",
        "hist_val.extend(history.history['val_mae'][:])\r\n",
        "hist_train.extend(history.history['mae'][:])\r\n",
        "\r\n",
        "plt.plot(hist_train[1:], \r\n",
        "         label='Средняя абсолютная ошибка на обучающем наборе')\r\n",
        "plt.plot(hist_val[1:], \r\n",
        "         label='Средняя абсолютная ошибка на проверочном наборе')\r\n",
        "plt.ylabel('Средняя ошибка')\r\n",
        "plt.legend()\r\n",
        "plt.show()"
      ],
      "execution_count": 142,
      "outputs": [
        {
          "output_type": "stream",
          "text": [
            "Epoch 1/50\n",
            "32/32 [==============================] - 15s 481ms/step - loss: 0.0150 - mae: 0.0869 - val_loss: 65.5122 - val_mae: 6.0148\n",
            "Epoch 2/50\n",
            "32/32 [==============================] - 15s 481ms/step - loss: 0.0149 - mae: 0.0863 - val_loss: 65.6826 - val_mae: 6.0277\n",
            "Epoch 3/50\n",
            "32/32 [==============================] - 16s 486ms/step - loss: 0.0148 - mae: 0.0859 - val_loss: 65.6335 - val_mae: 6.0266\n",
            "Epoch 4/50\n",
            "32/32 [==============================] - 15s 481ms/step - loss: 0.0147 - mae: 0.0860 - val_loss: 65.3895 - val_mae: 6.0132\n",
            "Epoch 5/50\n",
            "32/32 [==============================] - 16s 488ms/step - loss: 0.0148 - mae: 0.0864 - val_loss: 65.0080 - val_mae: 5.9910\n",
            "Epoch 6/50\n",
            "32/32 [==============================] - 15s 480ms/step - loss: 0.0149 - mae: 0.0871 - val_loss: 64.5531 - val_mae: 5.9640\n",
            "Epoch 7/50\n",
            "32/32 [==============================] - 15s 474ms/step - loss: 0.0151 - mae: 0.0880 - val_loss: 64.0904 - val_mae: 5.9364\n",
            "Epoch 8/50\n",
            "32/32 [==============================] - 15s 473ms/step - loss: 0.0153 - mae: 0.0890 - val_loss: 63.6880 - val_mae: 5.9123\n",
            "Epoch 9/50\n",
            "32/32 [==============================] - 15s 483ms/step - loss: 0.0155 - mae: 0.0898 - val_loss: 63.4259 - val_mae: 5.8965\n",
            "Epoch 10/50\n",
            "32/32 [==============================] - 15s 477ms/step - loss: 0.0155 - mae: 0.0899 - val_loss: 63.4223 - val_mae: 5.8961\n",
            "Epoch 11/50\n",
            "32/32 [==============================] - 16s 504ms/step - loss: 0.0152 - mae: 0.0889 - val_loss: 63.8837 - val_mae: 5.9237\n",
            "Epoch 12/50\n",
            "32/32 [==============================] - 15s 483ms/step - loss: 0.0146 - mae: 0.0863 - val_loss: 65.1632 - val_mae: 6.0020\n",
            "Epoch 13/50\n",
            "32/32 [==============================] - 15s 482ms/step - loss: 0.0142 - mae: 0.0846 - val_loss: 67.6665 - val_mae: 6.1591\n",
            "Epoch 14/50\n",
            "32/32 [==============================] - 16s 486ms/step - loss: 0.0153 - mae: 0.0895 - val_loss: 71.0389 - val_mae: 6.3640\n",
            "Epoch 15/50\n",
            "32/32 [==============================] - 15s 468ms/step - loss: 0.0181 - mae: 0.1007 - val_loss: 72.9186 - val_mae: 6.4758\n"
          ],
          "name": "stdout"
        },
        {
          "output_type": "display_data",
          "data": {
            "image/png": "[encoded data removed]",
            "text/plain": [
              "<Figure size 432x288 with 1 Axes>"
            ]
          },
          "metadata": {
            "tags": [],
            "needs_background": "light"
          }
        }
      ]
    },
    {
      "cell_type": "code",
      "metadata": {
        "id": "fUIVk_lAbiMT"
      },
      "source": [
        "pred = model.predict(dataset_train).flatten()\r\n",
        "predVal = model.predict(dataset_val).flatten()"
      ],
      "execution_count": 143,
      "outputs": []
    },
    {
      "cell_type": "code",
      "metadata": {
        "colab": {
          "base_uri": "https://localhost:8080/",
          "height": 334
        },
        "id": "TqfR0NeFb0ER",
        "outputId": "06a33a4a-ffbe-4aad-faf3-1209bda90ee0"
      },
      "source": [
        "start = 0\r\n",
        "step = 50\r\n",
        "plt.figure(figsize=(10,5))\r\n",
        "plt.grid('on')\r\n",
        "plt.plot(predVal[h+start:h+start+step], \r\n",
        "         label='Прогноз')\r\n",
        "plt.plot(yVal.flatten()[start:start+step], \r\n",
        "         label='Базовый ряд')\r\n",
        "plt.xlabel('Время')\r\n",
        "plt.ylabel('Значение ')\r\n",
        "\r\n",
        "plt.legend()\r\n",
        "plt.show()"
      ],
      "execution_count": 144,
      "outputs": [
        {
          "output_type": "display_data",
          "data": {
            "image/png": "[encoded data removed]",
            "text/plain": [
              "<Figure size 720x360 with 1 Axes>"
            ]
          },
          "metadata": {
            "tags": [],
            "needs_background": "light"
          }
        }
      ]
    },
    {
      "cell_type": "code",
      "metadata": {
        "colab": {
          "base_uri": "https://localhost:8080/",
          "height": 334
        },
        "id": "f8U4mj0wcPLT",
        "outputId": "77f23960-1c82-4004-cffb-72b759dad9fa"
      },
      "source": [
        "start = 0\r\n",
        "\r\n",
        "\r\n",
        "plt.figure(figsize=(10,5))\r\n",
        "plt.grid('on')\r\n",
        "plt.plot(pred[h+start:h+train_split], \r\n",
        "         label='Прогноз')\r\n",
        "plt.plot(yTrain.flatten()[start:train_split], \r\n",
        "         label='Базовый ряд')\r\n",
        "plt.xlabel('Время')\r\n",
        "plt.ylabel('Значение Close')\r\n",
        "plt.legend()\r\n",
        "plt.show()"
      ],
      "execution_count": 145,
      "outputs": [
        {
          "output_type": "display_data",
          "data": {
            "image/png": "[encoded data removed]",
            "text/plain": [
              "<Figure size 720x360 with 1 Axes>"
            ]
          },
          "metadata": {
            "tags": [],
            "needs_background": "light"
          }
        }
      ]
    },
    {
      "cell_type": "code",
      "metadata": {
        "id": "3kiye4hWcTPR"
      },
      "source": [
        "def correlate(a, b):\r\n",
        "  ma = a.mean()\r\n",
        "  mb = b.mean()\r\n",
        "  mab = (a*b).mean()\r\n",
        "  sa = a.std()\r\n",
        "  sb = b.std()\r\n",
        "  \r\n",
        "  val = 0\r\n",
        "  if ((sa>0) & (sb>0)):\r\n",
        "    val = (mab-ma*mb)/(sa*sb)\r\n",
        "  return val"
      ],
      "execution_count": 146,
      "outputs": []
    },
    {
      "cell_type": "code",
      "metadata": {
        "colab": {
          "base_uri": "https://localhost:8080/",
          "height": 283
        },
        "id": "bGVR3LM6cgh1",
        "outputId": "ee99f070-3980-483a-c87f-ade61b776710"
      },
      "source": [
        "corr = []\r\n",
        "start = 0\r\n",
        "step = 50\r\n",
        "yLen = yVal.shape[0]\r\n",
        "yValF = yVal[start:start+step].flatten()\r\n",
        "yPredVal = predVal[h+start:start+step+h]\r\n",
        "for i in range(1,20):\r\n",
        "  corr.append(correlate(yValF[:-i], yPredVal[i:]))\r\n",
        "  \r\n",
        "plt.plot(corr, \r\n",
        "         label='Корреляция')\r\n",
        "plt.xlabel('Время')\r\n",
        "plt.ylabel('Значение Close')\r\n",
        "plt.legend()\r\n",
        "plt.show()"
      ],
      "execution_count": 147,
      "outputs": [
        {
          "output_type": "display_data",
          "data": {
            "image/png": "[encoded data removed]",
            "text/plain": [
              "<Figure size 432x288 with 1 Axes>"
            ]
          },
          "metadata": {
            "tags": [],
            "needs_background": "light"
          }
        }
      ]
    },
    {
      "cell_type": "code",
      "metadata": {
        "colab": {
          "base_uri": "https://localhost:8080/"
        },
        "id": "iYdoDMRScnmn",
        "outputId": "c79a4e67-6103-49b1-9a7c-cc0bde899b93"
      },
      "source": [
        "corr"
      ],
      "execution_count": 148,
      "outputs": [
        {
          "output_type": "execute_result",
          "data": {
            "text/plain": [
              "[0.5419732050400123,\n",
              " 0.47972031025651257,\n",
              " 0.454274695177298,\n",
              " 0.30658129434615283,\n",
              " 0.11677479330687382,\n",
              " 0.021237956224667887,\n",
              " 0.01845464784433558,\n",
              " 0.01542693211044858,\n",
              " -0.03693049861380148,\n",
              " -0.07770179779329303,\n",
              " -0.12921578620256408,\n",
              " -0.12571224147665142,\n",
              " -0.13205946434080426,\n",
              " -0.18402349669538834,\n",
              " -0.2764534780838747,\n",
              " -0.44891152816397467,\n",
              " -0.5998326927684641,\n",
              " -0.6113048311292129,\n",
              " -0.6432503445365401]"
            ]
          },
          "metadata": {
            "tags": []
          },
          "execution_count": 148
        }
      ]
    },
    {
      "cell_type": "markdown",
      "metadata": {
        "id": "HnyuJpFyc5L_"
      },
      "source": [
        "В целом как видно данные Forex слабо поддаются прогнозированию. Этот датасет содержит сведения за 15 лет с частотой 1 час. Можно попороборать добыть более детальные данные, и пересчитать его. \r\n",
        "\r\n",
        "Не могли бы Вы подсказать, что можно сделать, чтобы попытаться улучшить результат."
      ]
    }
  ]
}