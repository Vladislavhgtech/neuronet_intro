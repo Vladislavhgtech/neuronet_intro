{
 "cells": [
  {
   "cell_type": "markdown",
   "metadata": {},
   "source": [
    "#### Домашняя работа\n",
    "\n",
    "Попробуйте обучить нейронную сеть на Keras на Fashion-MNIST датасете. Опишите в комментарии к уроку - какой результата вы добились от нейросети? Что помогло вам улучшить ее точность?"
   ]
  },
  {
   "cell_type": "code",
   "execution_count": 133,
   "metadata": {},
   "outputs": [],
   "source": [
    "#!pip install keras\n",
    "#!pip install mnist"
   ]
  },
  {
   "cell_type": "code",
   "execution_count": 134,
   "metadata": {},
   "outputs": [],
   "source": [
    "import numpy as np\n",
    "import mnist\n",
    "import keras\n",
    "\n",
    "import numpy as np\n",
    "#import  mnist\n",
    "import keras"
   ]
  },
  {
   "cell_type": "code",
   "execution_count": 135,
   "metadata": {},
   "outputs": [],
   "source": [
    "fashion_mnist=keras.datasets.fashion_mnist\n",
    "\n",
    "\n",
    "#train_images = fashion_mnist.train_images()\n",
    "#train_labels = fashion_mnist_labels()\n",
    "\n",
    "#print(train_images.shape) # (60000, 28, 28)\n",
    "#print(train_labels.shape) # (60000,)"
   ]
  },
  {
   "cell_type": "code",
   "execution_count": 136,
   "metadata": {},
   "outputs": [
    {
     "name": "stdout",
     "output_type": "stream",
     "text": [
      "(60000, 784)\n",
      "(10000, 784)\n"
     ]
    }
   ],
   "source": [
    "from keras.datasets import mnist\n",
    "\n",
    "#train_images = mnist.train_images()\n",
    "#train_labels = mnist.train_labels()\n",
    "#test_images = mnist.test_images()\n",
    "#test_labels = mnist.test_labels()\n",
    "\n",
    "(train_images,train_labels),(test_images,testn_labels)=fashion_mnist.load_data()\n",
    "\n",
    "# Normalize the images.\n",
    "train_images = (train_images / 255) * 2 - 1\n",
    "test_images = (test_images / 255) * 2 - 1\n",
    "\n",
    "# Flatten the images.\n",
    "train_images = train_images.reshape((-1, 784))\n",
    "test_images = test_images.reshape((-1, 784))\n",
    "\n",
    "print(train_images.shape) # (60000, 784)\n",
    "print(test_images.shape)  # (10000, 784)"
   ]
  },
  {
   "cell_type": "code",
   "execution_count": 137,
   "metadata": {},
   "outputs": [
    {
     "data": {
      "image/png": "[encoded data removed]",
      "text/plain": [
       "<Figure size 432x288 with 1 Axes>"
      ]
     },
     "metadata": {
      "needs_background": "light"
     },
     "output_type": "display_data"
    }
   ],
   "source": [
    "#просмотр изображения\n",
    "\n",
    "import matplotlib.pyplot as plt\n",
    "\n",
    "plt.imshow((train_images[3,:].reshape((28,28))+1)/2)\n",
    "plt.show()"
   ]
  },
  {
   "cell_type": "code",
   "execution_count": 138,
   "metadata": {},
   "outputs": [
    {
     "data": {
      "image/png": "[encoded data removed]",
      "text/plain": [
       "<Figure size 432x288 with 2 Axes>"
      ]
     },
     "metadata": {
      "needs_background": "light"
     },
     "output_type": "display_data"
    }
   ],
   "source": [
    "plt.figure()\n",
    "plt.imshow(train_images[0].reshape(28,28))\n",
    "plt.colorbar()\n",
    "plt.grid(False)\n",
    "plt.show()"
   ]
  },
  {
   "cell_type": "code",
   "execution_count": 139,
   "metadata": {},
   "outputs": [
    {
     "data": {
      "text/plain": [
       "'tensorflow'"
      ]
     },
     "execution_count": 139,
     "metadata": {},
     "output_type": "execute_result"
    }
   ],
   "source": [
    "keras.backend.backend()"
   ]
  },
  {
   "cell_type": "code",
   "execution_count": 140,
   "metadata": {},
   "outputs": [],
   "source": [
    "# The full neural network code!\n",
    "###############################\n",
    "import numpy as np\n",
    "#import mnist\n",
    "from keras.models import Sequential\n",
    "from keras.layers import Dense\n",
    "from keras.utils import to_categorical\n",
    "from keras.datasets import mnist"
   ]
  },
  {
   "cell_type": "code",
   "execution_count": 141,
   "metadata": {},
   "outputs": [],
   "source": [
    "(train_images,train_labels),(test_images,test_labels)=fashion_mnist.load_data()\n",
    "\n",
    "#train_images = mnist.train_images()\n",
    "#train_labels = mnist.train_labels()\n",
    "#test_images = mnist.test_images()\n",
    "#test_labels = mnist.test_labels()\n",
    "\n",
    "# Normalize the images.\n",
    "train_images = (train_images / 255) - 0.5\n",
    "test_images = (test_images / 255) - 0.5\n",
    "\n",
    "# Flatten the images.\n",
    "train_images = train_images.reshape((-1, 784))\n",
    "test_images = test_images.reshape((-1, 784))"
   ]
  },
  {
   "cell_type": "code",
   "execution_count": 142,
   "metadata": {},
   "outputs": [],
   "source": [
    "# Build the model.\n",
    "model = Sequential()\n",
    "model.add( Dense(64, activation='relu', input_shape=(784,)))\n",
    "model.add(Dense(64, activation='relu'))\n",
    "model.add(  Dense(10, activation='softmax'))\n",
    "\n",
    "# Compile the model.\n",
    "model.compile(\n",
    "  optimizer='adam',\n",
    "  loss='categorical_crossentropy',\n",
    "  metrics=['accuracy'],\n",
    ")"
   ]
  },
  {
   "cell_type": "code",
   "execution_count": 143,
   "metadata": {},
   "outputs": [
    {
     "name": "stdout",
     "output_type": "stream",
     "text": [
      "Model: \"sequential_9\"\n",
      "_________________________________________________________________\n",
      "Layer (type)                 Output Shape              Param #   \n",
      "=================================================================\n",
      "dense_27 (Dense)             (None, 64)                50240     \n",
      "_________________________________________________________________\n",
      "dense_28 (Dense)             (None, 64)                4160      \n",
      "_________________________________________________________________\n",
      "dense_29 (Dense)             (None, 10)                650       \n",
      "=================================================================\n",
      "Total params: 55,050\n",
      "Trainable params: 55,050\n",
      "Non-trainable params: 0\n",
      "_________________________________________________________________\n"
     ]
    }
   ],
   "source": [
    "model.summary()"
   ]
  },
  {
   "cell_type": "code",
   "execution_count": 144,
   "metadata": {},
   "outputs": [
    {
     "data": {
      "text/plain": [
       "array([0., 0., 0., 0., 0., 0., 0., 0., 0., 1.], dtype=float32)"
      ]
     },
     "execution_count": 144,
     "metadata": {},
     "output_type": "execute_result"
    }
   ],
   "source": [
    "yy=to_categorical(train_labels,10) #преобразуем в матрицу c количеством столбцов, сколько существует классов.\n",
    "yy[0,:] #выведем одну строку"
   ]
  },
  {
   "cell_type": "code",
   "execution_count": 145,
   "metadata": {},
   "outputs": [
    {
     "data": {
      "text/plain": [
       "array([9, 0, 0, ..., 3, 0, 5], dtype=uint8)"
      ]
     },
     "execution_count": 145,
     "metadata": {},
     "output_type": "execute_result"
    }
   ],
   "source": [
    "train_labels #вектор правильных ответов в тренировочной выборке"
   ]
  },
  {
   "cell_type": "code",
   "execution_count": 146,
   "metadata": {},
   "outputs": [
    {
     "name": "stdout",
     "output_type": "stream",
     "text": [
      "Epoch 1/5\n",
      "1500/1500 [==============================] - 4s 3ms/step - loss: 0.5183 - accuracy: 0.8130 - val_loss: 0.4181 - val_accuracy: 0.8509\n",
      "Epoch 2/5\n",
      "1500/1500 [==============================] - 4s 2ms/step - loss: 0.3917 - accuracy: 0.8560 - val_loss: 0.4154 - val_accuracy: 0.8491\n",
      "Epoch 3/5\n",
      "1500/1500 [==============================] - 4s 2ms/step - loss: 0.3537 - accuracy: 0.8697 - val_loss: 0.3819 - val_accuracy: 0.8573\n",
      "Epoch 4/5\n",
      "1500/1500 [==============================] - 4s 2ms/step - loss: 0.3316 - accuracy: 0.8776 - val_loss: 0.3893 - val_accuracy: 0.8527\n",
      "Epoch 5/5\n",
      "1500/1500 [==============================] - 4s 3ms/step - loss: 0.3123 - accuracy: 0.8845 - val_loss: 0.3468 - val_accuracy: 0.8742\n",
      "313/313 [==============================] - 1s 2ms/step - loss: 0.3703 - accuracy: 0.8653\n"
     ]
    },
    {
     "data": {
      "text/plain": [
       "[0.37026578187942505, 0.8652999997138977]"
      ]
     },
     "execution_count": 146,
     "metadata": {},
     "output_type": "execute_result"
    }
   ],
   "source": [
    "# Начинаем тренировать тренировочную выборку\n",
    "model.fit(\n",
    "  train_images,\n",
    "  to_categorical(train_labels,10),\n",
    "  epochs=5,\n",
    "  batch_size=32, \n",
    "    \n",
    "    validation_split=0.2\n",
    ")\n",
    "\n",
    "# оценка модели.\n",
    "model.evaluate(\n",
    "  test_images,\n",
    "  to_categorical(test_labels)\n",
    ")"
   ]
  },
  {
   "cell_type": "code",
   "execution_count": 152,
   "metadata": {},
   "outputs": [
    {
     "name": "stdout",
     "output_type": "stream",
     "text": [
      "[9 2 1 1 6 1 4 6 5 7]\n",
      "[9 2 1 1 6 1 4 6 5 7]\n"
     ]
    }
   ],
   "source": [
    "N_test = 10\n",
    "# Прогноз первых 5 тестовых изображений\n",
    "predictions = model.predict(test_images[:N_test])\n",
    "\n",
    "# Print our model's predictions.\n",
    "print(np.argmax(predictions, axis=1)) # \n",
    "\n",
    "# Check our predictions against the ground truths.\n",
    "print(test_labels[:N_test]) # "
   ]
  },
  {
   "cell_type": "code",
   "execution_count": 153,
   "metadata": {},
   "outputs": [],
   "source": [
    "#for i in range(0,5):\n",
    "#    plt.imshow((test_images[i,:].reshape((28,28))+1)/2)\n",
    "#    plt.show()"
   ]
  },
  {
   "cell_type": "code",
   "execution_count": 154,
   "metadata": {},
   "outputs": [
    {
     "data": {
      "text/plain": [
       "array([1.6564058e-05, 1.1673696e-06, 5.6228919e-06, 2.8918507e-06,\n",
       "       2.1442985e-07, 1.0629003e-03, 3.4623863e-06, 4.1515745e-02,\n",
       "       5.7859030e-05, 9.5733362e-01], dtype=float32)"
      ]
     },
     "execution_count": 154,
     "metadata": {},
     "output_type": "execute_result"
    }
   ],
   "source": [
    "predictions[0,:]"
   ]
  },
  {
   "cell_type": "code",
   "execution_count": 155,
   "metadata": {},
   "outputs": [
    {
     "data": {
      "image/png": "[encoded data removed]",
      "text/plain": [
       "<Figure size 432x288 with 1 Axes>"
      ]
     },
     "metadata": {
      "needs_background": "light"
     },
     "output_type": "display_data"
    }
   ],
   "source": [
    "plt.plot(predictions[0,:], 'or')\n",
    "plt.title('Выходы нейронной сети (10 выходов)')\n",
    "plt.xlabel('No выхода')\n",
    "plt.ylabel('y_net[i]')\n",
    "plt.show()"
   ]
  },
  {
   "cell_type": "code",
   "execution_count": 156,
   "metadata": {},
   "outputs": [],
   "source": [
    "y_pred = np.argmax(predictions, axis=1)"
   ]
  },
  {
   "cell_type": "code",
   "execution_count": 157,
   "metadata": {},
   "outputs": [
    {
     "data": {
      "text/plain": [
       "array([9, 2, 1, 1, 6, 1, 4, 6, 5, 7], dtype=int64)"
      ]
     },
     "execution_count": 157,
     "metadata": {},
     "output_type": "execute_result"
    }
   ],
   "source": [
    "y_pred[:N_test]"
   ]
  },
  {
   "cell_type": "code",
   "execution_count": 158,
   "metadata": {},
   "outputs": [
    {
     "data": {
      "image/png": "[encoded data removed]",
      "text/plain": [
       "<Figure size 432x288 with 1 Axes>"
      ]
     },
     "metadata": {
      "needs_background": "light"
     },
     "output_type": "display_data"
    }
   ],
   "source": [
    "plt.plot(testn_labels[:N_test], 'g',label = 'test true')\n",
    "plt.plot(y_pred[:N_test], 'or',label='test predict')\n",
    "plt.legend()\n",
    "plt.title('Выход нейронной сети (метка класса)')\n",
    "plt.xlabel('No примера')\n",
    "plt.ylabel('y_pred')\n",
    "plt.show()"
   ]
  },
  {
   "cell_type": "code",
   "execution_count": 159,
   "metadata": {},
   "outputs": [],
   "source": [
    "# Save the model to disk.\n",
    "model.save_weights('model.h5')\n",
    "\n",
    "# Load the model from disk later using:\n",
    "# model.load_weights('model.h5"
   ]
  },
  {
   "cell_type": "markdown",
   "metadata": {},
   "source": [
    "### Используем для обучения другие функции активации: tanh и linear"
   ]
  },
  {
   "cell_type": "code",
   "execution_count": 160,
   "metadata": {},
   "outputs": [],
   "source": [
    "# Build the model.\n",
    "model_1 = Sequential()\n",
    "model_1.add( Dense(64, activation='tanh', input_shape=(784,)))\n",
    "model_1.add(Dense(64, activation='tanh'))\n",
    "model_1.add(  Dense(10, activation='softmax'))\n",
    "\n",
    "# Compile the model.\n",
    "model_1.compile(\n",
    "  optimizer='adam',\n",
    "  loss='categorical_crossentropy',\n",
    "  metrics=['accuracy'],\n",
    ")"
   ]
  },
  {
   "cell_type": "code",
   "execution_count": 161,
   "metadata": {},
   "outputs": [
    {
     "name": "stdout",
     "output_type": "stream",
     "text": [
      "Epoch 1/5\n",
      "1500/1500 [==============================] - 4s 3ms/step - loss: 0.5170 - accuracy: 0.8153 - val_loss: 0.4251 - val_accuracy: 0.8423\n",
      "Epoch 2/5\n",
      "1500/1500 [==============================] - 4s 2ms/step - loss: 0.3912 - accuracy: 0.8577 - val_loss: 0.4272 - val_accuracy: 0.8445\n",
      "Epoch 3/5\n",
      "1500/1500 [==============================] - 4s 2ms/step - loss: 0.3532 - accuracy: 0.8706 - val_loss: 0.3715 - val_accuracy: 0.8673\n",
      "Epoch 4/5\n",
      "1500/1500 [==============================] - 4s 2ms/step - loss: 0.3285 - accuracy: 0.8800 - val_loss: 0.3447 - val_accuracy: 0.8778\n",
      "Epoch 5/5\n",
      "1500/1500 [==============================] - 4s 2ms/step - loss: 0.3111 - accuracy: 0.8849 - val_loss: 0.3456 - val_accuracy: 0.8769\n",
      "313/313 [==============================] - 1s 2ms/step - loss: 0.3711 - accuracy: 0.8662\n"
     ]
    },
    {
     "data": {
      "text/plain": [
       "[0.3710896968841553, 0.8661999702453613]"
      ]
     },
     "execution_count": 161,
     "metadata": {},
     "output_type": "execute_result"
    }
   ],
   "source": [
    "# Начинаем тренировать тренировочную выборку\n",
    "model_1.fit(\n",
    "  train_images,\n",
    "  to_categorical(train_labels,10),\n",
    "  epochs=5,\n",
    "  batch_size=32, \n",
    "    \n",
    "    validation_split=0.2\n",
    ")\n",
    "\n",
    "# оценка модели.\n",
    "model_1.evaluate(\n",
    "  test_images,\n",
    "  to_categorical(test_labels)\n",
    ")"
   ]
  },
  {
   "cell_type": "code",
   "execution_count": 162,
   "metadata": {},
   "outputs": [
    {
     "name": "stdout",
     "output_type": "stream",
     "text": [
      "[9 2 1 1 6 1 4 6 5 7]\n",
      "[9 2 1 1 6 1 4 6 5 7]\n"
     ]
    }
   ],
   "source": [
    "N_test = 10\n",
    "# Прогноз первых 5 тестовых изображений\n",
    "predictions = model.predict(test_images[:N_test])\n",
    "\n",
    "# Print our model's predictions.\n",
    "print(np.argmax(predictions, axis=1)) # \n",
    "\n",
    "# Check our predictions against the ground truths.\n",
    "print(test_labels[:N_test]) #"
   ]
  },
  {
   "cell_type": "markdown",
   "metadata": {},
   "source": [
    "#### Активационная функция tanh показала худшие результаты"
   ]
  },
  {
   "cell_type": "markdown",
   "metadata": {},
   "source": [
    "#### Обучим модель с активационной функцией linear"
   ]
  },
  {
   "cell_type": "code",
   "execution_count": 163,
   "metadata": {},
   "outputs": [],
   "source": [
    "# Build the model.\n",
    "model_2 = Sequential()\n",
    "model_2.add( Dense(64, activation='linear', input_shape=(784,)))\n",
    "model_2.add(Dense(64, activation='linear'))\n",
    "model_2.add(  Dense(10, activation='softmax'))\n",
    "\n",
    "# Compile the model.\n",
    "model_2.compile(\n",
    "  optimizer='adam',\n",
    "  loss='categorical_crossentropy',\n",
    "  metrics=['accuracy'],\n",
    ")"
   ]
  },
  {
   "cell_type": "code",
   "execution_count": 164,
   "metadata": {},
   "outputs": [
    {
     "name": "stdout",
     "output_type": "stream",
     "text": [
      "Epoch 1/5\n",
      "1500/1500 [==============================] - 4s 3ms/step - loss: 0.5454 - accuracy: 0.8062 - val_loss: 0.4680 - val_accuracy: 0.8396\n",
      "Epoch 2/5\n",
      "1500/1500 [==============================] - 4s 2ms/step - loss: 0.4711 - accuracy: 0.8327 - val_loss: 0.4663 - val_accuracy: 0.8296\n",
      "Epoch 3/5\n",
      "1500/1500 [==============================] - 4s 2ms/step - loss: 0.4547 - accuracy: 0.8398 - val_loss: 0.4565 - val_accuracy: 0.8342\n",
      "Epoch 4/5\n",
      "1500/1500 [==============================] - 4s 2ms/step - loss: 0.4439 - accuracy: 0.8447 - val_loss: 0.4841 - val_accuracy: 0.8332\n",
      "Epoch 5/5\n",
      "1500/1500 [==============================] - 4s 3ms/step - loss: 0.4364 - accuracy: 0.8459 - val_loss: 0.4550 - val_accuracy: 0.8421\n",
      "313/313 [==============================] - 1s 2ms/step - loss: 0.4875 - accuracy: 0.8287\n"
     ]
    },
    {
     "data": {
      "text/plain": [
       "[0.48753994703292847, 0.8287000060081482]"
      ]
     },
     "execution_count": 164,
     "metadata": {},
     "output_type": "execute_result"
    }
   ],
   "source": [
    "# Начинаем тренировать тренировочную выборку\n",
    "model_2.fit(\n",
    "  train_images,\n",
    "  to_categorical(train_labels,10),\n",
    "  epochs=5,\n",
    "  batch_size=32, \n",
    "    \n",
    "    validation_split=0.2\n",
    ")\n",
    "\n",
    "# оценка модели.\n",
    "model_2.evaluate(\n",
    "  test_images,\n",
    "  to_categorical(test_labels)\n",
    ")"
   ]
  },
  {
   "cell_type": "markdown",
   "metadata": {},
   "source": [
    "#### функция lenear показала себя хуже всех"
   ]
  },
  {
   "cell_type": "markdown",
   "metadata": {},
   "source": [
    "### Добавим несколько слоёв и нейронов"
   ]
  },
  {
   "cell_type": "code",
   "execution_count": 174,
   "metadata": {},
   "outputs": [],
   "source": [
    "# Build the model.\n",
    "model_3 = Sequential()\n",
    "model_3.add( Dense(128, activation='relu', input_shape=(784,)))\n",
    "#model_3.add(Dense(128, activation='relu'))\n",
    "model_3.add(Dense(64, activation='relu'))\n",
    "model_3.add(  Dense(10, activation='softmax'))\n",
    "\n",
    "# Compile the model.\n",
    "model_3.compile(\n",
    "  optimizer='adam',\n",
    "  loss='categorical_crossentropy',\n",
    "  metrics=['accuracy'],\n",
    ")"
   ]
  },
  {
   "cell_type": "code",
   "execution_count": 175,
   "metadata": {},
   "outputs": [
    {
     "name": "stdout",
     "output_type": "stream",
     "text": [
      "Epoch 1/20\n",
      "1500/1500 [==============================] - 5s 3ms/step - loss: 0.5073 - accuracy: 0.8157 - val_loss: 0.4297 - val_accuracy: 0.8457\n",
      "Epoch 2/20\n",
      "1500/1500 [==============================] - 4s 3ms/step - loss: 0.3846 - accuracy: 0.8578 - val_loss: 0.3933 - val_accuracy: 0.8574\n",
      "Epoch 3/20\n",
      "1500/1500 [==============================] - 4s 3ms/step - loss: 0.3467 - accuracy: 0.8711 - val_loss: 0.3536 - val_accuracy: 0.8708\n",
      "Epoch 4/20\n",
      "1500/1500 [==============================] - 4s 3ms/step - loss: 0.3184 - accuracy: 0.8814 - val_loss: 0.3428 - val_accuracy: 0.8770\n",
      "Epoch 5/20\n",
      "1500/1500 [==============================] - 4s 3ms/step - loss: 0.2986 - accuracy: 0.8894 - val_loss: 0.3504 - val_accuracy: 0.8743\n",
      "Epoch 6/20\n",
      "1500/1500 [==============================] - 4s 3ms/step - loss: 0.2829 - accuracy: 0.8952 - val_loss: 0.3424 - val_accuracy: 0.8761\n",
      "Epoch 7/20\n",
      "1500/1500 [==============================] - 4s 3ms/step - loss: 0.2702 - accuracy: 0.8993 - val_loss: 0.3328 - val_accuracy: 0.8813\n",
      "Epoch 8/20\n",
      "1500/1500 [==============================] - 4s 3ms/step - loss: 0.2579 - accuracy: 0.9044 - val_loss: 0.3298 - val_accuracy: 0.8845\n",
      "Epoch 9/20\n",
      "1500/1500 [==============================] - 4s 3ms/step - loss: 0.2430 - accuracy: 0.9085 - val_loss: 0.3643 - val_accuracy: 0.8761\n",
      "Epoch 10/20\n",
      "1500/1500 [==============================] - 4s 3ms/step - loss: 0.2355 - accuracy: 0.9103 - val_loss: 0.3303 - val_accuracy: 0.8873\n",
      "Epoch 11/20\n",
      "1500/1500 [==============================] - 5s 3ms/step - loss: 0.2248 - accuracy: 0.9167 - val_loss: 0.3368 - val_accuracy: 0.8865\n",
      "Epoch 12/20\n",
      "1500/1500 [==============================] - 4s 3ms/step - loss: 0.2148 - accuracy: 0.9188 - val_loss: 0.3425 - val_accuracy: 0.8798\n",
      "Epoch 13/20\n",
      "1500/1500 [==============================] - 4s 3ms/step - loss: 0.2083 - accuracy: 0.9222 - val_loss: 0.3307 - val_accuracy: 0.8873\n",
      "Epoch 14/20\n",
      "1500/1500 [==============================] - 4s 3ms/step - loss: 0.1983 - accuracy: 0.9250 - val_loss: 0.3642 - val_accuracy: 0.8795\n",
      "Epoch 15/20\n",
      "1500/1500 [==============================] - 5s 3ms/step - loss: 0.1929 - accuracy: 0.9264 - val_loss: 0.3631 - val_accuracy: 0.8815\n",
      "Epoch 16/20\n",
      "1500/1500 [==============================] - 5s 3ms/step - loss: 0.1856 - accuracy: 0.9294 - val_loss: 0.3629 - val_accuracy: 0.8811\n",
      "Epoch 17/20\n",
      "1500/1500 [==============================] - 4s 3ms/step - loss: 0.1795 - accuracy: 0.9328 - val_loss: 0.3455 - val_accuracy: 0.8886\n",
      "Epoch 18/20\n",
      "1500/1500 [==============================] - 4s 3ms/step - loss: 0.1691 - accuracy: 0.9363 - val_loss: 0.3626 - val_accuracy: 0.8859\n",
      "Epoch 19/20\n",
      "1500/1500 [==============================] - 4s 3ms/step - loss: 0.1653 - accuracy: 0.9379 - val_loss: 0.3581 - val_accuracy: 0.8915\n",
      "Epoch 20/20\n",
      "1500/1500 [==============================] - 4s 3ms/step - loss: 0.1606 - accuracy: 0.9393 - val_loss: 0.3764 - val_accuracy: 0.8863\n",
      "313/313 [==============================] - 1s 2ms/step - loss: 0.3985 - accuracy: 0.8804\n"
     ]
    },
    {
     "data": {
      "text/plain": [
       "[0.3984605371952057, 0.8804000020027161]"
      ]
     },
     "execution_count": 175,
     "metadata": {},
     "output_type": "execute_result"
    }
   ],
   "source": [
    "# Начинаем тренировать тренировочную выборку\n",
    "model_3.fit(\n",
    "  train_images,\n",
    "  to_categorical(train_labels,10),\n",
    "  epochs=20,\n",
    "  batch_size=32, \n",
    "    \n",
    "    validation_split=0.2\n",
    ")\n",
    "\n",
    "# оценка модели.\n",
    "model_3.evaluate(\n",
    "  test_images,\n",
    "  to_categorical(test_labels)\n",
    ")"
   ]
  },
  {
   "cell_type": "code",
   "execution_count": 176,
   "metadata": {},
   "outputs": [
    {
     "name": "stdout",
     "output_type": "stream",
     "text": [
      "WARNING:tensorflow:7 out of the last 10 calls to <function Model.make_predict_function.<locals>.predict_function at 0x0000023702135820> triggered tf.function retracing. Tracing is expensive and the excessive number of tracings could be due to (1) creating @tf.function repeatedly in a loop, (2) passing tensors with different shapes, (3) passing Python objects instead of tensors. For (1), please define your @tf.function outside of the loop. For (2), @tf.function has experimental_relax_shapes=True option that relaxes argument shapes that can avoid unnecessary retracing. For (3), please refer to https://www.tensorflow.org/tutorials/customization/performance#python_or_tensor_args and https://www.tensorflow.org/api_docs/python/tf/function for  more details.\n",
      "[9 2 1 1 6 1 4 6 5 7]\n",
      "[9 2 1 1 6 1 4 6 5 7]\n"
     ]
    }
   ],
   "source": [
    "N_test = 10\n",
    "# Прогноз первых 5 тестовых изображений\n",
    "predictions = model_3.predict(test_images[:N_test])\n",
    "\n",
    "# Print our model's predictions.\n",
    "print(np.argmax(predictions, axis=1)) # \n",
    "\n",
    "# Check our predictions against the ground truths.\n",
    "print(test_labels[:N_test]) # "
   ]
  },
  {
   "cell_type": "markdown",
   "metadata": {},
   "source": [
    "Для достижения лучшей точность нейросети мною были изменены следующие параметры нейросети:\n",
    "    1. Количество слоёв нейросети;\n",
    "    2. Активационные функции;\n",
    "    3. Количество нейронов;\n",
    "    4. Количество проходов (epoch)\n",
    "    \n",
    "Первые 3 параметра по отдельности дают небольшое улучшение качества (менее 1 %). При увеличении epoch качество моделе существенно возрастает, что связано с корректировкой весов. Наблюдения показали, что при большом увелечении проходов (более 100) accuracy стремится к 1, что вероятно связано с переобучением. "
   ]
  },
  {
   "cell_type": "code",
   "execution_count": null,
   "metadata": {},
   "outputs": [],
   "source": []
  }
 ],
 "metadata": {
  "kernelspec": {
   "display_name": "Python 3",
   "language": "python",
   "name": "python3"
  },
  "language_info": {
   "codemirror_mode": {
    "name": "ipython",
    "version": 3
   },
   "file_extension": ".py",
   "mimetype": "text/x-python",
   "name": "python",
   "nbconvert_exporter": "python",
   "pygments_lexer": "ipython3",
   "version": "3.8.3"
  }
 },
 "nbformat": 4,
 "nbformat_minor": 4
}
